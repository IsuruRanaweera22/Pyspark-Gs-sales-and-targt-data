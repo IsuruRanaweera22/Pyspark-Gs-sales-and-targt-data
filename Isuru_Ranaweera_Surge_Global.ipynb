{
  "nbformat": 4,
  "nbformat_minor": 0,
  "metadata": {
    "colab": {
      "provenance": []
    },
    "kernelspec": {
      "name": "python3",
      "display_name": "Python 3"
    },
    "language_info": {
      "name": "python"
    },
    "accelerator": "GPU",
    "gpuClass": "standard"
  },
  "cells": [
    {
      "cell_type": "code",
      "execution_count": 1,
      "metadata": {
        "colab": {
          "base_uri": "https://localhost:8080/"
        },
        "id": "20yIja-kO_yX",
        "outputId": "43671003-be40-49bd-c18d-fc22085d912c"
      },
      "outputs": [
        {
          "output_type": "stream",
          "name": "stdout",
          "text": [
            "Looking in indexes: https://pypi.org/simple, https://us-python.pkg.dev/colab-wheels/public/simple/\n",
            "Requirement already satisfied: pyspark in /usr/local/lib/python3.9/dist-packages (3.3.2)\n",
            "Requirement already satisfied: py4j in /usr/local/lib/python3.9/dist-packages (0.10.9.5)\n"
          ]
        }
      ],
      "source": [
        "!pip install pyspark py4j"
      ]
    },
    {
      "cell_type": "code",
      "source": [],
      "metadata": {
        "id": "IIP8VzuLPJS3"
      },
      "execution_count": 1,
      "outputs": []
    },
    {
      "cell_type": "code",
      "source": [],
      "metadata": {
        "id": "2cwtld7ZTQvT"
      },
      "execution_count": 1,
      "outputs": []
    },
    {
      "cell_type": "code",
      "source": [
        "from pyspark.sql import SparkSession,SQLContext \n",
        "from google.colab import drive\n",
        "from pyspark.sql.types import DateType,DoubleType,IntegerType\n",
        "from pyspark.sql.functions import *\n",
        "import numpy as np"
      ],
      "metadata": {
        "id": "rl5k2V0uTQ3I"
      },
      "execution_count": 2,
      "outputs": []
    },
    {
      "cell_type": "code",
      "source": [
        "spark = SparkSession.builder.master(\"local[*]\").appName('Isuru_DS_DE_Internship').getOrCreate()"
      ],
      "metadata": {
        "id": "NeX4BGbETSH4"
      },
      "execution_count": 3,
      "outputs": []
    },
    {
      "cell_type": "code",
      "source": [
        "drive.mount('/content/drive')"
      ],
      "metadata": {
        "colab": {
          "base_uri": "https://localhost:8080/"
        },
        "id": "p8GxlM9oUa8W",
        "outputId": "4ef73805-d727-4cb1-ad66-1cdb84080294"
      },
      "execution_count": 4,
      "outputs": [
        {
          "output_type": "stream",
          "name": "stdout",
          "text": [
            "Drive already mounted at /content/drive; to attempt to forcibly remount, call drive.mount(\"/content/drive\", force_remount=True).\n"
          ]
        }
      ]
    },
    {
      "cell_type": "code",
      "source": [
        "#loading appropriate datasets\n",
        "GS_Sales_Data = spark.read.csv('/content/drive/MyDrive/SurgeGlobal/DS_DE Internship - GS Sales Data 2022.v2.xlsx - GS Sales Data.csv',sep = ',',header = True,inferSchema=True,)\n",
        "Daily_Target = spark.read.csv('/content/drive/MyDrive/SurgeGlobal/DS_DE Internship - GS Sales Data 2022.v2.xlsx - Daily Target.csv',sep = ',',header = True,inferSchema=True)"
      ],
      "metadata": {
        "id": "SyBOLIbkVK81"
      },
      "execution_count": 5,
      "outputs": []
    },
    {
      "cell_type": "code",
      "source": [
        "GS_Sales_Data.show(5)"
      ],
      "metadata": {
        "colab": {
          "base_uri": "https://localhost:8080/"
        },
        "id": "GELeclnhWchj",
        "outputId": "977d6731-635b-4e2f-8e24-964e9378807c"
      },
      "execution_count": 6,
      "outputs": [
        {
          "output_type": "stream",
          "name": "stdout",
          "text": [
            "+------+--------------+----------+----------+---------+---------+--------------+-----------+-------------+-----------+--------------+------------+--------------+-----------+-------+-----------------+---------------+---------------+------------+--------------------+-------+--------+--------+--------+--------+\n",
            "|Row ID|      Order ID|Order Date|Order_Week|Ship Date|Ship_Week|     Ship Mode|Customer ID|Customer Name|    Segment|Country/Region|        City|State/Province|Postal Code| Region| Regional Manager|     Product ID|       Category|Sub-Category|        Product Name|  Sales|Quantity|Discount|  Profit|Returned|\n",
            "+------+--------------+----------+----------+---------+---------+--------------+-----------+-------------+-----------+--------------+------------+--------------+-----------+-------+-----------------+---------------+---------------+------------+--------------------+-------+--------+--------+--------+--------+\n",
            "|     1|US-2019-103800|  1/3/2019|    2019-1| 1/7/2019|   2019-2|Standard Class|   DP-13000|Darren Powers|   Consumer| United States|     Houston|         Texas|      77095|Central|Roxanne Rodriguez|OFF-PA-10000174|Office Supplies|       Paper|\"Message Book, Wi...| 16.448|       2|     0.2|  5.5512|    #N/A|\n",
            "|     2|US-2019-112326|  1/4/2019|    2019-1| 1/8/2019|   2019-2|Standard Class|   PO-19195|Phillina Ober|Home Office| United States|  Naperville|      Illinois|      60540|Central|Roxanne Rodriguez|OFF-BI-10004094|Office Supplies|     Binders|GBC Standard Plas...|   3.54|       2|     0.8|  -5.487|    #N/A|\n",
            "|     3|US-2019-112326|  1/4/2019|    2019-1| 1/8/2019|   2019-2|Standard Class|   PO-19195|Phillina Ober|Home Office| United States|  Naperville|          #N/A|      60540|Central|Roxanne Rodriguez|OFF-LA-10003223|Office Supplies|      Labels|           Avery 508| 11.784|       3|     0.2|  4.2717|    #N/A|\n",
            "|     4|US-2019-112326|  1/4/2019|    2019-1| 1/8/2019|   2019-2|Standard Class|   PO-19195|Phillina Ober|Home Office| United States|  Naperville|      Illinois|      60540|Central|Roxanne Rodriguez|OFF-ST-10002743|Office Supplies|     Storage|SAFCO Boltless St...|272.736|       3|     0.2|-64.7748|    #N/A|\n",
            "|     5|US-2019-141817|  1/5/2019|    2019-1|1/12/2019|   2019-2|Standard Class|   MB-18085|   Mick Brown|   Consumer| United States|Philadelphia|  Pennsylvania|      19143|   East|      Chuck Magee|OFF-AR-10003478|Office Supplies|         Art|Avery Hi-Liter Ev...| 19.536|       3|     0.2|   4.884|    #N/A|\n",
            "+------+--------------+----------+----------+---------+---------+--------------+-----------+-------------+-----------+--------------+------------+--------------+-----------+-------+-----------------+---------------+---------------+------------+--------------------+-------+--------+--------+--------+--------+\n",
            "only showing top 5 rows\n",
            "\n"
          ]
        }
      ]
    },
    {
      "cell_type": "code",
      "source": [
        "#basic information about the dataset\n",
        "GS_Sales_Data.printSchema()"
      ],
      "metadata": {
        "colab": {
          "base_uri": "https://localhost:8080/"
        },
        "id": "FfKiNKTyZqso",
        "outputId": "39df7b5c-c6c4-4954-e2ef-d536f75a073f"
      },
      "execution_count": 7,
      "outputs": [
        {
          "output_type": "stream",
          "name": "stdout",
          "text": [
            "root\n",
            " |-- Row ID: integer (nullable = true)\n",
            " |-- Order ID: string (nullable = true)\n",
            " |-- Order Date: string (nullable = true)\n",
            " |-- Order_Week: string (nullable = true)\n",
            " |-- Ship Date: string (nullable = true)\n",
            " |-- Ship_Week: string (nullable = true)\n",
            " |-- Ship Mode: string (nullable = true)\n",
            " |-- Customer ID: string (nullable = true)\n",
            " |-- Customer Name: string (nullable = true)\n",
            " |-- Segment: string (nullable = true)\n",
            " |-- Country/Region: string (nullable = true)\n",
            " |-- City: string (nullable = true)\n",
            " |-- State/Province: string (nullable = true)\n",
            " |-- Postal Code: string (nullable = true)\n",
            " |-- Region: string (nullable = true)\n",
            " |-- Regional Manager: string (nullable = true)\n",
            " |-- Product ID: string (nullable = true)\n",
            " |-- Category: string (nullable = true)\n",
            " |-- Sub-Category: string (nullable = true)\n",
            " |-- Product Name: string (nullable = true)\n",
            " |-- Sales: string (nullable = true)\n",
            " |-- Quantity: string (nullable = true)\n",
            " |-- Discount: string (nullable = true)\n",
            " |-- Profit: double (nullable = true)\n",
            " |-- Returned: string (nullable = true)\n",
            "\n"
          ]
        }
      ]
    },
    {
      "cell_type": "code",
      "source": [
        "GS_Sales_Data.count()"
      ],
      "metadata": {
        "colab": {
          "base_uri": "https://localhost:8080/"
        },
        "id": "gW4M1WKQ80Es",
        "outputId": "5f329675-5dba-44ad-aefc-b39aac565af8"
      },
      "execution_count": 8,
      "outputs": [
        {
          "output_type": "execute_result",
          "data": {
            "text/plain": [
              "10194"
            ]
          },
          "metadata": {},
          "execution_count": 8
        }
      ]
    },
    {
      "cell_type": "code",
      "source": [
        "#discriptive summary of the dataset\n",
        "GS_Sales_Data.describe().show()"
      ],
      "metadata": {
        "colab": {
          "base_uri": "https://localhost:8080/"
        },
        "id": "8hgeadMY9cAc",
        "outputId": "248a754b-b209-49eb-badf-217f5e9c5faf"
      },
      "execution_count": 9,
      "outputs": [
        {
          "output_type": "stream",
          "name": "stdout",
          "text": [
            "+-------+-----------------+--------------+----------+----------+---------+---------+--------------+-----------+------------------+-----------+--------------+--------+--------------+-----------------+-------+----------------+---------------+----------+------------+--------------------+------------------+------------------+-------------------+------------------+------------------+\n",
            "|summary|           Row ID|      Order ID|Order Date|Order_Week|Ship Date|Ship_Week|     Ship Mode|Customer ID|     Customer Name|    Segment|Country/Region|    City|State/Province|      Postal Code| Region|Regional Manager|     Product ID|  Category|Sub-Category|        Product Name|             Sales|          Quantity|           Discount|            Profit|          Returned|\n",
            "+-------+-----------------+--------------+----------+----------+---------+---------+--------------+-----------+------------------+-----------+--------------+--------+--------------+-----------------+-------+----------------+---------------+----------+------------+--------------------+------------------+------------------+-------------------+------------------+------------------+\n",
            "|  count|            10194|         10194|     10194|     10194|    10194|    10194|         10194|      10194|             10194|      10194|         10194|   10194|         10194|            10194|  10194|           10194|          10194|     10194|       10194|               10194|             10194|             10194|              10194|             10194|             10194|\n",
            "|   mean|           5097.5|          null|      null|      null|     null|     null|          null|       null|              null|       null|          null|    null|          null|55190.37172303382|   null|            null|           null|      null|        null|                null|232.69989872610955| 5.804797916257128|0.31211666502994106|28.606715842652527| 7.192321782178223|\n",
            "| stddev|2942.898656087226|          null|      null|      null|     null|     null|          null|       null|              null|       null|          null|    null|          null|32063.70531466623|   null|            null|           null|      null|        null|                null| 628.3222857044404|25.298475792039707|  3.281741586930707| 232.5922692578744|31.788418113075547|\n",
            "|    min|                1|CA-2019-100867|  1/1/2022|    2019-1| 1/1/2020|  2019-10|   First Class|   AA-10315|              #N/A|   Consumer|        Canada|Aberdeen|          #N/A|            10009|Central|            #N/A|FUR-BO-10000112|      #N/A| Accessories|\"\"\"While you Were...|          10/Pack\"|      1040 sheets\"|            30/Box\"|         -6599.978|              #N/A|\n",
            "|    max|            10194|US-2022-169999|  9/9/2022|    2022-9| 9/9/2022|   2023-1|Standard Class|   ZD-21925|Zuschuss Donatelli|Home Office| United States|    Yuma|       Wyoming|              V6Z|   West| Sadie Pawthorne|TEC-PH-10004977|Technology|      Tables|netTALK DUO VoIP ...|            999.98|            98.352|             98.352|          8399.976|               Yes|\n",
            "+-------+-----------------+--------------+----------+----------+---------+---------+--------------+-----------+------------------+-----------+--------------+--------+--------------+-----------------+-------+----------------+---------------+----------+------------+--------------------+------------------+------------------+-------------------+------------------+------------------+\n",
            "\n"
          ]
        }
      ]
    },
    {
      "cell_type": "code",
      "source": [
        "#drop duplicates from the dataset\n",
        "GS_Sales_Data_duplicates=GS_Sales_Data.groupBy(GS_Sales_Data.columns).count().filter(\"count > 1\")\n",
        "GS_Sales_Data_duplicates.drop('count')\n",
        "GS_Sales_Data_duplicates.count()"
      ],
      "metadata": {
        "colab": {
          "base_uri": "https://localhost:8080/"
        },
        "id": "Vy_HB19_S3sG",
        "outputId": "4e3a8ff1-fd00-4677-8265-aa0bf4f0ad94"
      },
      "execution_count": 10,
      "outputs": [
        {
          "output_type": "execute_result",
          "data": {
            "text/plain": [
              "0"
            ]
          },
          "metadata": {},
          "execution_count": 10
        }
      ]
    },
    {
      "cell_type": "code",
      "source": [
        "#casting wrong data types into correct data types\n",
        "GS_Sales_Data = GS_Sales_Data\\\n",
        ".withColumn(\"Order Date\" , to_date(col(\"Order Date\"),'M/d/yyyy'))\\\n",
        ".withColumn(\"Ship Date\"  ,to_date(col(\"Ship Date\"),'M/d/yyyy'))\\\n",
        ".withColumn(\"Sales\"  ,GS_Sales_Data[\"Sales\"].cast(DoubleType()))\\\n",
        ".withColumn(\"Quantity\"  ,GS_Sales_Data[\"Quantity\"].cast(DoubleType()))\\\n",
        ".withColumn(\"Discount\"  ,GS_Sales_Data[\"Discount\"].cast(DoubleType()))"
      ],
      "metadata": {
        "id": "05EYX0MHS3v5"
      },
      "execution_count": 11,
      "outputs": []
    },
    {
      "cell_type": "code",
      "source": [
        "#final schema after casting data types\n",
        "GS_Sales_Data.printSchema()"
      ],
      "metadata": {
        "colab": {
          "base_uri": "https://localhost:8080/"
        },
        "id": "HX6b-2ZDdn-7",
        "outputId": "306f0700-5d49-49d2-c92b-7255af0a3a80"
      },
      "execution_count": 12,
      "outputs": [
        {
          "output_type": "stream",
          "name": "stdout",
          "text": [
            "root\n",
            " |-- Row ID: integer (nullable = true)\n",
            " |-- Order ID: string (nullable = true)\n",
            " |-- Order Date: date (nullable = true)\n",
            " |-- Order_Week: string (nullable = true)\n",
            " |-- Ship Date: date (nullable = true)\n",
            " |-- Ship_Week: string (nullable = true)\n",
            " |-- Ship Mode: string (nullable = true)\n",
            " |-- Customer ID: string (nullable = true)\n",
            " |-- Customer Name: string (nullable = true)\n",
            " |-- Segment: string (nullable = true)\n",
            " |-- Country/Region: string (nullable = true)\n",
            " |-- City: string (nullable = true)\n",
            " |-- State/Province: string (nullable = true)\n",
            " |-- Postal Code: string (nullable = true)\n",
            " |-- Region: string (nullable = true)\n",
            " |-- Regional Manager: string (nullable = true)\n",
            " |-- Product ID: string (nullable = true)\n",
            " |-- Category: string (nullable = true)\n",
            " |-- Sub-Category: string (nullable = true)\n",
            " |-- Product Name: string (nullable = true)\n",
            " |-- Sales: double (nullable = true)\n",
            " |-- Quantity: double (nullable = true)\n",
            " |-- Discount: double (nullable = true)\n",
            " |-- Profit: double (nullable = true)\n",
            " |-- Returned: string (nullable = true)\n",
            "\n"
          ]
        }
      ]
    },
    {
      "cell_type": "code",
      "source": [
        "GS_Sales_Data.show(5)"
      ],
      "metadata": {
        "colab": {
          "base_uri": "https://localhost:8080/"
        },
        "id": "n7XkT4gNdoBU",
        "outputId": "45da4a3b-2ce8-4796-833c-9a88865210c1"
      },
      "execution_count": 13,
      "outputs": [
        {
          "output_type": "stream",
          "name": "stdout",
          "text": [
            "+------+--------------+----------+----------+----------+---------+--------------+-----------+-------------+-----------+--------------+------------+--------------+-----------+-------+-----------------+---------------+---------------+------------+--------------------+-------+--------+--------+--------+--------+\n",
            "|Row ID|      Order ID|Order Date|Order_Week| Ship Date|Ship_Week|     Ship Mode|Customer ID|Customer Name|    Segment|Country/Region|        City|State/Province|Postal Code| Region| Regional Manager|     Product ID|       Category|Sub-Category|        Product Name|  Sales|Quantity|Discount|  Profit|Returned|\n",
            "+------+--------------+----------+----------+----------+---------+--------------+-----------+-------------+-----------+--------------+------------+--------------+-----------+-------+-----------------+---------------+---------------+------------+--------------------+-------+--------+--------+--------+--------+\n",
            "|     1|US-2019-103800|2019-01-03|    2019-1|2019-01-07|   2019-2|Standard Class|   DP-13000|Darren Powers|   Consumer| United States|     Houston|         Texas|      77095|Central|Roxanne Rodriguez|OFF-PA-10000174|Office Supplies|       Paper|\"Message Book, Wi...| 16.448|     2.0|     0.2|  5.5512|    #N/A|\n",
            "|     2|US-2019-112326|2019-01-04|    2019-1|2019-01-08|   2019-2|Standard Class|   PO-19195|Phillina Ober|Home Office| United States|  Naperville|      Illinois|      60540|Central|Roxanne Rodriguez|OFF-BI-10004094|Office Supplies|     Binders|GBC Standard Plas...|   3.54|     2.0|     0.8|  -5.487|    #N/A|\n",
            "|     3|US-2019-112326|2019-01-04|    2019-1|2019-01-08|   2019-2|Standard Class|   PO-19195|Phillina Ober|Home Office| United States|  Naperville|          #N/A|      60540|Central|Roxanne Rodriguez|OFF-LA-10003223|Office Supplies|      Labels|           Avery 508| 11.784|     3.0|     0.2|  4.2717|    #N/A|\n",
            "|     4|US-2019-112326|2019-01-04|    2019-1|2019-01-08|   2019-2|Standard Class|   PO-19195|Phillina Ober|Home Office| United States|  Naperville|      Illinois|      60540|Central|Roxanne Rodriguez|OFF-ST-10002743|Office Supplies|     Storage|SAFCO Boltless St...|272.736|     3.0|     0.2|-64.7748|    #N/A|\n",
            "|     5|US-2019-141817|2019-01-05|    2019-1|2019-01-12|   2019-2|Standard Class|   MB-18085|   Mick Brown|   Consumer| United States|Philadelphia|  Pennsylvania|      19143|   East|      Chuck Magee|OFF-AR-10003478|Office Supplies|         Art|Avery Hi-Liter Ev...| 19.536|     3.0|     0.2|   4.884|    #N/A|\n",
            "+------+--------------+----------+----------+----------+---------+--------------+-----------+-------------+-----------+--------------+------------+--------------+-----------+-------+-----------------+---------------+---------------+------------+--------------------+-------+--------+--------+--------+--------+\n",
            "only showing top 5 rows\n",
            "\n"
          ]
        }
      ]
    },
    {
      "cell_type": "code",
      "source": [],
      "metadata": {
        "id": "Vkh6f3z4hTM0"
      },
      "execution_count": 13,
      "outputs": []
    },
    {
      "cell_type": "code",
      "source": [],
      "metadata": {
        "id": "zCzf6jFl7xRb"
      },
      "execution_count": 13,
      "outputs": []
    },
    {
      "cell_type": "code",
      "source": [
        "Daily_Target.show(5)"
      ],
      "metadata": {
        "colab": {
          "base_uri": "https://localhost:8080/"
        },
        "id": "zCHQ4kPs8TxT",
        "outputId": "c6a8695a-65a6-4075-a548-ad1533330163"
      },
      "execution_count": 14,
      "outputs": [
        {
          "output_type": "stream",
          "name": "stdout",
          "text": [
            "+---------------+----------+-----------+------------+\n",
            "|       Category|Order Date|    Segment|Sales Target|\n",
            "+---------------+----------+-----------+------------+\n",
            "|Office Supplies|  1/3/2019|   Consumer|          15|\n",
            "|Office Supplies|  1/4/2019|Home Office|         300|\n",
            "|Office Supplies|  1/5/2019|   Consumer|          21|\n",
            "|      Furniture|  1/6/2019|Home Office|        2316|\n",
            "|Office Supplies|  1/6/2019|   Consumer|          17|\n",
            "+---------------+----------+-----------+------------+\n",
            "only showing top 5 rows\n",
            "\n"
          ]
        }
      ]
    },
    {
      "cell_type": "code",
      "source": [
        "Daily_Target.printSchema()"
      ],
      "metadata": {
        "colab": {
          "base_uri": "https://localhost:8080/"
        },
        "id": "tBBQnQBo8XFD",
        "outputId": "a16f0862-f854-4f2a-b191-ab78e633ab4d"
      },
      "execution_count": 15,
      "outputs": [
        {
          "output_type": "stream",
          "name": "stdout",
          "text": [
            "root\n",
            " |-- Category: string (nullable = true)\n",
            " |-- Order Date: string (nullable = true)\n",
            " |-- Segment: string (nullable = true)\n",
            " |-- Sales Target: integer (nullable = true)\n",
            "\n"
          ]
        }
      ]
    },
    {
      "cell_type": "code",
      "source": [
        "Daily_Target.count()"
      ],
      "metadata": {
        "colab": {
          "base_uri": "https://localhost:8080/"
        },
        "id": "E2mw69eP8aVk",
        "outputId": "5a6e6e9b-28f1-49f0-fde6-b28a73c8a1b4"
      },
      "execution_count": 16,
      "outputs": [
        {
          "output_type": "execute_result",
          "data": {
            "text/plain": [
              "4603"
            ]
          },
          "metadata": {},
          "execution_count": 16
        }
      ]
    },
    {
      "cell_type": "code",
      "source": [
        "Daily_Target.describe().show()"
      ],
      "metadata": {
        "colab": {
          "base_uri": "https://localhost:8080/"
        },
        "id": "k5wbRWeR867j",
        "outputId": "f7592970-695d-419f-a70f-10c04c7bd747"
      },
      "execution_count": 17,
      "outputs": [
        {
          "output_type": "stream",
          "name": "stdout",
          "text": [
            "+-------+----------+----------+-----------+-----------------+\n",
            "|summary|  Category|Order Date|    Segment|     Sales Target|\n",
            "+-------+----------+----------+-----------+-----------------+\n",
            "|  count|      4603|      4603|       4603|             4603|\n",
            "|   mean|      null|      null|       null|486.7262654790354|\n",
            "| stddev|      null|      null|       null|985.1143915441062|\n",
            "|    min| Furniture|  1/1/2022|   Consumer|                1|\n",
            "|    max|Technology|  9/9/2022|Home Office|            25729|\n",
            "+-------+----------+----------+-----------+-----------------+\n",
            "\n"
          ]
        }
      ]
    },
    {
      "cell_type": "code",
      "source": [
        "Daily_Target_duplicates=Daily_Target.groupBy(Daily_Target.columns).count().filter(\"count > 1\")\n",
        "Daily_Target_duplicates.drop('count')\n",
        "Daily_Target_duplicates.count()"
      ],
      "metadata": {
        "colab": {
          "base_uri": "https://localhost:8080/"
        },
        "id": "bTbMA2MD9hhl",
        "outputId": "ddbba397-2d00-4191-df14-0c15d81ed723"
      },
      "execution_count": 18,
      "outputs": [
        {
          "output_type": "execute_result",
          "data": {
            "text/plain": [
              "0"
            ]
          },
          "metadata": {},
          "execution_count": 18
        }
      ]
    },
    {
      "cell_type": "code",
      "source": [
        "Daily_Target = Daily_Target\\\n",
        ".withColumn(\"Order Date\"  ,to_date(col(\"Order Date\"),'M/d/yyyy'))"
      ],
      "metadata": {
        "id": "K2kAEmZYT-l2"
      },
      "execution_count": 19,
      "outputs": []
    },
    {
      "cell_type": "code",
      "source": [
        "Daily_Target.printSchema()"
      ],
      "metadata": {
        "colab": {
          "base_uri": "https://localhost:8080/"
        },
        "id": "S_sLyZ6xpqDm",
        "outputId": "1fcb191c-8bd1-4584-a516-dea752e94f4d"
      },
      "execution_count": 20,
      "outputs": [
        {
          "output_type": "stream",
          "name": "stdout",
          "text": [
            "root\n",
            " |-- Category: string (nullable = true)\n",
            " |-- Order Date: date (nullable = true)\n",
            " |-- Segment: string (nullable = true)\n",
            " |-- Sales Target: integer (nullable = true)\n",
            "\n"
          ]
        }
      ]
    },
    {
      "cell_type": "code",
      "source": [
        "Daily_Target.show(5)"
      ],
      "metadata": {
        "colab": {
          "base_uri": "https://localhost:8080/"
        },
        "id": "OUd4d4szpudn",
        "outputId": "2dfc7f65-adf9-47de-dcde-6deb54c5c7d3"
      },
      "execution_count": 21,
      "outputs": [
        {
          "output_type": "stream",
          "name": "stdout",
          "text": [
            "+---------------+----------+-----------+------------+\n",
            "|       Category|Order Date|    Segment|Sales Target|\n",
            "+---------------+----------+-----------+------------+\n",
            "|Office Supplies|2019-01-03|   Consumer|          15|\n",
            "|Office Supplies|2019-01-04|Home Office|         300|\n",
            "|Office Supplies|2019-01-05|   Consumer|          21|\n",
            "|      Furniture|2019-01-06|Home Office|        2316|\n",
            "|Office Supplies|2019-01-06|   Consumer|          17|\n",
            "+---------------+----------+-----------+------------+\n",
            "only showing top 5 rows\n",
            "\n"
          ]
        }
      ]
    },
    {
      "cell_type": "code",
      "source": [],
      "metadata": {
        "id": "seihWIgWpyPK"
      },
      "execution_count": 21,
      "outputs": []
    },
    {
      "cell_type": "code",
      "source": [
        "# Renaming the columns for identification purposes for later processes\n",
        "Daily_Target_R = Daily_Target.withColumnRenamed(\"Category\", \"Category_DT\")\\\n",
        "                           .withColumnRenamed(\"Order Date\", \"Order_Date_DT\")\\\n",
        "                           .withColumnRenamed(\"Segment\", \"Segment_DT\")"
      ],
      "metadata": {
        "id": "pE1uqbVTe6-e"
      },
      "execution_count": 22,
      "outputs": []
    },
    {
      "cell_type": "code",
      "source": [
        "# Specifying the joining conditions for the joins of the dataframes  \"GS_Sales_Data\" and \"Daily_Target\"\n",
        "condition = [GS_Sales_Data['Category']== Daily_Target_R['Category_DT'], GS_Sales_Data['Order Date']== Daily_Target_R['Order_Date_DT'], GS_Sales_Data['Segment']==Daily_Target_R['Segment_DT']]\n",
        "\n",
        "# Executing an inner join accross the prior mentioned dataframes\n",
        "GS_Sales_Data_Combined = GS_Sales_Data.join(Daily_Target_R, condition, 'inner',)\n",
        "\n",
        "GS_Sales_Data_Combined= GS_Sales_Data_Combined.drop('Category_DT', 'Order_Date_DT', 'Segment_DT')\n",
        "GS_Sales_Data_Combined = GS_Sales_Data_Combined.sort('Order Date')\n",
        "\n",
        "GS_Sales_Data_Combined.show()\n",
        "GS_Sales_Data_Combined.printSchema()"
      ],
      "metadata": {
        "colab": {
          "base_uri": "https://localhost:8080/"
        },
        "id": "-nlDb7gjf66t",
        "outputId": "31cefd97-2273-4bdf-b12b-15ed993fde5c"
      },
      "execution_count": 23,
      "outputs": [
        {
          "output_type": "stream",
          "name": "stdout",
          "text": [
            "+------+--------------+----------+----------+----------+---------+--------------+-----------+----------------+-----------+--------------+------------+--------------+-----------+-------+-----------------+---------------+---------------+------------+--------------------+-------+--------+--------+--------+--------+------------+\n",
            "|Row ID|      Order ID|Order Date|Order_Week| Ship Date|Ship_Week|     Ship Mode|Customer ID|   Customer Name|    Segment|Country/Region|        City|State/Province|Postal Code| Region| Regional Manager|     Product ID|       Category|Sub-Category|        Product Name|  Sales|Quantity|Discount|  Profit|Returned|Sales Target|\n",
            "+------+--------------+----------+----------+----------+---------+--------------+-----------+----------------+-----------+--------------+------------+--------------+-----------+-------+-----------------+---------------+---------------+------------+--------------------+-------+--------+--------+--------+--------+------------+\n",
            "|     1|US-2019-103800|2019-01-03|    2019-1|2019-01-07|   2019-2|Standard Class|   DP-13000|   Darren Powers|   Consumer| United States|     Houston|         Texas|      77095|Central|Roxanne Rodriguez|OFF-PA-10000174|Office Supplies|       Paper|\"Message Book, Wi...| 16.448|     2.0|     0.2|  5.5512|    #N/A|          15|\n",
            "|     3|US-2019-112326|2019-01-04|    2019-1|2019-01-08|   2019-2|Standard Class|   PO-19195|   Phillina Ober|Home Office| United States|  Naperville|          #N/A|      60540|Central|Roxanne Rodriguez|OFF-LA-10003223|Office Supplies|      Labels|           Avery 508| 11.784|     3.0|     0.2|  4.2717|    #N/A|         300|\n",
            "|     2|US-2019-112326|2019-01-04|    2019-1|2019-01-08|   2019-2|Standard Class|   PO-19195|   Phillina Ober|Home Office| United States|  Naperville|      Illinois|      60540|Central|Roxanne Rodriguez|OFF-BI-10004094|Office Supplies|     Binders|GBC Standard Plas...|   3.54|     2.0|     0.8|  -5.487|    #N/A|         300|\n",
            "|     4|US-2019-112326|2019-01-04|    2019-1|2019-01-08|   2019-2|Standard Class|   PO-19195|   Phillina Ober|Home Office| United States|  Naperville|      Illinois|      60540|Central|Roxanne Rodriguez|OFF-ST-10002743|Office Supplies|     Storage|SAFCO Boltless St...|272.736|     3.0|     0.2|-64.7748|    #N/A|         300|\n",
            "|     5|US-2019-141817|2019-01-05|    2019-1|2019-01-12|   2019-2|Standard Class|   MB-18085|      Mick Brown|   Consumer| United States|Philadelphia|  Pennsylvania|      19143|   East|      Chuck Magee|OFF-AR-10003478|Office Supplies|         Art|Avery Hi-Liter Ev...| 19.536|     3.0|     0.2|   4.884|    #N/A|          21|\n",
            "|     6|US-2019-167199|2019-01-06|    2019-2|2019-01-10|   2019-2|Standard Class|   ME-17320|   Maria Etezadi|Home Office| United States|   Henderson|      Kentucky|      42420|  South|      Fred Suzuki|FUR-CH-10004063|      Furniture|      Chairs|Global Deluxe Hig...|2573.82|     9.0|     0.0|746.4078|    #N/A|        2316|\n",
            "|    12|US-2019-130813|2019-01-06|    2019-2|2019-01-08|   2019-2|  Second Class|   LS-17230|Lycoris Saunders|   Consumer| United States| Los Angeles|    California|      90049|   West|  Sadie Pawthorne|OFF-PA-10002005|Office Supplies|       Paper|           Xerox 225|  19.44|     3.0|     0.0|  9.3312|    #N/A|          17|\n",
            "|     7|US-2019-167199|2019-01-06|    2019-2|2019-01-10|   2019-2|Standard Class|   ME-17320|   Maria Etezadi|Home Office| United States|   Henderson|      Kentucky|      42420|  South|      Fred Suzuki|OFF-AR-10001662|Office Supplies|         Art|Rogers Handheld B...|   5.48|     2.0|     0.0|  1.4796|    #N/A|         699|\n",
            "|     8|US-2019-106054|2019-01-06|    2019-2|2019-01-07|   2019-2|   First Class|   JO-15145|   Jack O'Briant|  Corporate| United States|      Athens|       Georgia|      30605|  South|             #N/A|OFF-AR-10002399|Office Supplies|         Art|Dixon Prang Water...|  12.78|     3.0|     0.0|  5.2398|    #N/A|          14|\n",
            "|    11|US-2019-167199|2019-01-06|    2019-2|2019-01-10|   2019-2|Standard Class|   ME-17320|            #N/A|Home Office| United States|   Henderson|      Kentucky|      42420|  South|      Fred Suzuki|OFF-PA-10000955|Office Supplies|       Paper|Southworth 25% Co...|   6.54|     1.0|     0.0|  3.0084|    #N/A|         699|\n",
            "|    13|US-2019-167199|2019-01-06|    2019-2|2019-01-10|   2019-2|Standard Class|   ME-17320|   Maria Etezadi|Home Office| United States|   Henderson|      Kentucky|      42420|  South|      Fred Suzuki|TEC-PH-10004539|     Technology|      Phones|Wireless Extender...| 755.96|     4.0|     0.0|204.1092|    #N/A|        1068|\n",
            "|    14|US-2019-167199|2019-01-06|    2019-2|2019-01-10|   2019-2|Standard Class|   ME-17320|   Maria Etezadi|Home Office| United States|   Henderson|      Kentucky|      42420|  South|      Fred Suzuki|TEC-PH-10004977|     Technology|      Phones|         GE 30524EE4| 391.98|     2.0|     0.0|113.6742|    #N/A|        1068|\n",
            "|     9|US-2019-167199|2019-01-06|    2019-2|2019-01-10|   2019-2|Standard Class|   ME-17320|   Maria Etezadi|Home Office| United States|   Henderson|      Kentucky|      42420|  South|      Fred Suzuki|OFF-BI-10004632|Office Supplies|     Binders|Ibico Hi-Tech Man...| 609.98|     2.0|     0.0| 274.491|    #N/A|         699|\n",
            "|    10|US-2019-167199|2019-01-06|    2019-2|2019-01-10|   2019-2|Standard Class|   ME-17320|   Maria Etezadi|Home Office| United States|   Henderson|      Kentucky|      42420|  South|      Fred Suzuki|OFF-FA-10001883|Office Supplies|   Fasteners|Alliance Super-Si...|  31.12|     4.0|     0.0|  0.3112|    #N/A|         699|\n",
            "|    15|US-2019-105417|2019-01-07|    2019-2|2019-01-12|   2019-2|Standard Class|   VS-21820|Vivek Sundaresam|   Consumer| United States|  Huntsville|         Texas|      77340|Central|Roxanne Rodriguez|FUR-FU-10004864|      Furniture| Furnishings|\"Howard Miller 14...| 76.728|     3.0|     0.6|-53.7096|    #N/A|          81|\n",
            "|    16|US-2019-105417|2019-01-07|    2019-2|2019-01-12|   2019-2|Standard Class|   VS-21820|Vivek Sundaresam|   Consumer| United States|  Huntsville|         Texas|      77340|Central|Roxanne Rodriguez|OFF-BI-10003708|Office Supplies|     Binders|Acco Four Pocket ...|  10.43|     7.0|     0.8|-18.2525|    #N/A|          11|\n",
            "|    18|US-2019-135405|2019-01-09|    2019-2|2019-01-13|   2019-3|Standard Class|   MS-17830|   Melanie Seite|   Consumer| United States|      Laredo|         Texas|      78041|Central|Roxanne Rodriguez|TEC-AC-10001266|     Technology| Accessories|Memorex Micro Tra...|   31.2|     3.0|     0.2|    9.75|    #N/A|          29|\n",
            "|    17|US-2019-135405|2019-01-09|    2019-2|2019-01-13|   2019-3|Standard Class|   MS-17830|   Melanie Seite|   Consumer| United States|      Laredo|         Texas|      78041|Central|Roxanne Rodriguez|OFF-AR-10004078|Office Supplies|         Art|          Newell 312|  9.344|     2.0|     0.2|   1.168|    #N/A|           9|\n",
            "|    19|US-2019-149020|2019-01-10|    2019-2|2019-01-15|   2019-3|Standard Class|   AJ-10780|  Anthony Jacobs|  Corporate| United States| Springfield|      Virginia|      22153|  South|      Fred Suzuki|FUR-FU-10000965|      Furniture| Furnishings|\"Howard Miller 11...|  51.94|     1.0|     0.0| 21.2954|    #N/A|          47|\n",
            "|    20|US-2019-149020|2019-01-10|    2019-2|2019-01-15|   2019-3|Standard Class|   AJ-10780|  Anthony Jacobs|  Corporate| United States| Springfield|      Virginia|      22153|  South|      Fred Suzuki|OFF-LA-10004272|Office Supplies|      Labels|           Avery 482|   2.89|     1.0|     0.0|  1.3583|    #N/A|           3|\n",
            "+------+--------------+----------+----------+----------+---------+--------------+-----------+----------------+-----------+--------------+------------+--------------+-----------+-------+-----------------+---------------+---------------+------------+--------------------+-------+--------+--------+--------+--------+------------+\n",
            "only showing top 20 rows\n",
            "\n",
            "root\n",
            " |-- Row ID: integer (nullable = true)\n",
            " |-- Order ID: string (nullable = true)\n",
            " |-- Order Date: date (nullable = true)\n",
            " |-- Order_Week: string (nullable = true)\n",
            " |-- Ship Date: date (nullable = true)\n",
            " |-- Ship_Week: string (nullable = true)\n",
            " |-- Ship Mode: string (nullable = true)\n",
            " |-- Customer ID: string (nullable = true)\n",
            " |-- Customer Name: string (nullable = true)\n",
            " |-- Segment: string (nullable = true)\n",
            " |-- Country/Region: string (nullable = true)\n",
            " |-- City: string (nullable = true)\n",
            " |-- State/Province: string (nullable = true)\n",
            " |-- Postal Code: string (nullable = true)\n",
            " |-- Region: string (nullable = true)\n",
            " |-- Regional Manager: string (nullable = true)\n",
            " |-- Product ID: string (nullable = true)\n",
            " |-- Category: string (nullable = true)\n",
            " |-- Sub-Category: string (nullable = true)\n",
            " |-- Product Name: string (nullable = true)\n",
            " |-- Sales: double (nullable = true)\n",
            " |-- Quantity: double (nullable = true)\n",
            " |-- Discount: double (nullable = true)\n",
            " |-- Profit: double (nullable = true)\n",
            " |-- Returned: string (nullable = true)\n",
            " |-- Sales Target: integer (nullable = true)\n",
            "\n"
          ]
        }
      ]
    },
    {
      "cell_type": "code",
      "source": [
        "GS_Sales_Data_Combined.count()"
      ],
      "metadata": {
        "colab": {
          "base_uri": "https://localhost:8080/"
        },
        "id": "hd9zbBS97P8H",
        "outputId": "93d0fc80-169b-4105-fb83-bf03c41d21a9"
      },
      "execution_count": 24,
      "outputs": [
        {
          "output_type": "execute_result",
          "data": {
            "text/plain": [
              "10112"
            ]
          },
          "metadata": {},
          "execution_count": 24
        }
      ]
    },
    {
      "cell_type": "code",
      "source": [
        "#for i in range(0,len(GS_Sales_Data_Combined_.columns)):\n",
        "#  GS_Sales_Data_Combined_NA = GS_Sales_Data_Combined_NA[GS_Sales_Data_Combined_NA.columns[i]].replace({'#N/A':None})"
      ],
      "metadata": {
        "id": "y0RdvCXVhg0I"
      },
      "execution_count": 25,
      "outputs": []
    },
    {
      "cell_type": "code",
      "source": [
        "#from pyspark.sql.functions import when, count, col\n",
        "\n",
        "#cols=GS_Sales_Data_Combined.columns\n",
        "#cols.pop(2)\n",
        "#cols.pop(3)\n",
        "#GS_Sales_Data_Combined.select([count(when(isnan(c) | col(c).isNull(), c)).alias(c) for c in cols]).show()"
      ],
      "metadata": {
        "id": "8p8_2F-aiKbi"
      },
      "execution_count": 26,
      "outputs": []
    },
    {
      "cell_type": "code",
      "source": [
        "#import missingno as msno\n",
        "#msno.bar(GS_Sales_Data_Combined_NA)"
      ],
      "metadata": {
        "id": "_BBfgdDKgmD3"
      },
      "execution_count": 27,
      "outputs": []
    },
    {
      "cell_type": "code",
      "source": [
        "GS_Sales_Data_Combined.select('Returned').distinct().show()"
      ],
      "metadata": {
        "colab": {
          "base_uri": "https://localhost:8080/"
        },
        "id": "bm15TEPq-KRa",
        "outputId": "7233aed9-1697-4633-afc9-61b840430d9e"
      },
      "execution_count": 28,
      "outputs": [
        {
          "output_type": "stream",
          "name": "stdout",
          "text": [
            "+--------+\n",
            "|Returned|\n",
            "+--------+\n",
            "|  2.8478|\n",
            "|   15.49|\n",
            "|  26.973|\n",
            "|  4.2717|\n",
            "|-10.6547|\n",
            "|   3.178|\n",
            "|-18.0312|\n",
            "| 73.5448|\n",
            "| 10.3904|\n",
            "| 11.1024|\n",
            "|   3.339|\n",
            "| 34.0704|\n",
            "| 30.9918|\n",
            "|   3.405|\n",
            "|  6.7655|\n",
            "| 39.3408|\n",
            "| 22.7136|\n",
            "|-26.6352|\n",
            "|   7.668|\n",
            "| -4.7625|\n",
            "+--------+\n",
            "only showing top 20 rows\n",
            "\n"
          ]
        }
      ]
    },
    {
      "cell_type": "code",
      "source": [
        "#creating sales fact table\n",
        "Sales_fact = GS_Sales_Data_Combined.select(['Order ID', 'Product ID','Product Name', 'Customer ID', 'Postal Code','City', 'Region','Returned' ,'Quantity', 'Discount', 'Profit', 'Sales', 'Sales Target'])\n",
        "\n",
        "#replace NA values by zero\n",
        "Sales_fact = Sales_fact.withColumn('Returned',when(Sales_fact[\"Returned\"] == '#N/A', 0).otherwise(Sales_fact[\"Returned\"]))\n",
        "#Sales_fact = Sales_fact.withColumn(\"Returned\", col(\"Returned\").cast(IntegerType()))\n",
        "#Sales_fact = Sales_fact.na.fill(value=0,subset=[\"Returned\"])\n",
        "Sales_fact.printSchema()\n",
        "Sales_fact.show()"
      ],
      "metadata": {
        "colab": {
          "base_uri": "https://localhost:8080/"
        },
        "id": "L_LZ3TeijCoF",
        "outputId": "2ca97781-ff92-4934-bd18-f143172680d7"
      },
      "execution_count": 29,
      "outputs": [
        {
          "output_type": "stream",
          "name": "stdout",
          "text": [
            "root\n",
            " |-- Order ID: string (nullable = true)\n",
            " |-- Product ID: string (nullable = true)\n",
            " |-- Product Name: string (nullable = true)\n",
            " |-- Customer ID: string (nullable = true)\n",
            " |-- Postal Code: string (nullable = true)\n",
            " |-- City: string (nullable = true)\n",
            " |-- Region: string (nullable = true)\n",
            " |-- Returned: string (nullable = true)\n",
            " |-- Quantity: double (nullable = true)\n",
            " |-- Discount: double (nullable = true)\n",
            " |-- Profit: double (nullable = true)\n",
            " |-- Sales: double (nullable = true)\n",
            " |-- Sales Target: integer (nullable = true)\n",
            "\n",
            "+--------------+---------------+--------------------+-----------+-----------+------------+-------+--------+--------+--------+--------+-------+------------+\n",
            "|      Order ID|     Product ID|        Product Name|Customer ID|Postal Code|        City| Region|Returned|Quantity|Discount|  Profit|  Sales|Sales Target|\n",
            "+--------------+---------------+--------------------+-----------+-----------+------------+-------+--------+--------+--------+--------+-------+------------+\n",
            "|US-2019-103800|OFF-PA-10000174|\"Message Book, Wi...|   DP-13000|      77095|     Houston|Central|       0|     2.0|     0.2|  5.5512| 16.448|          15|\n",
            "|US-2019-112326|OFF-LA-10003223|           Avery 508|   PO-19195|      60540|  Naperville|Central|       0|     3.0|     0.2|  4.2717| 11.784|         300|\n",
            "|US-2019-112326|OFF-BI-10004094|GBC Standard Plas...|   PO-19195|      60540|  Naperville|Central|       0|     2.0|     0.8|  -5.487|   3.54|         300|\n",
            "|US-2019-112326|OFF-ST-10002743|SAFCO Boltless St...|   PO-19195|      60540|  Naperville|Central|       0|     3.0|     0.2|-64.7748|272.736|         300|\n",
            "|US-2019-141817|OFF-AR-10003478|Avery Hi-Liter Ev...|   MB-18085|      19143|Philadelphia|   East|       0|     3.0|     0.2|   4.884| 19.536|          21|\n",
            "|US-2019-167199|FUR-CH-10004063|Global Deluxe Hig...|   ME-17320|      42420|   Henderson|  South|       0|     9.0|     0.0|746.4078|2573.82|        2316|\n",
            "|US-2019-130813|OFF-PA-10002005|           Xerox 225|   LS-17230|      90049| Los Angeles|   West|       0|     3.0|     0.0|  9.3312|  19.44|          17|\n",
            "|US-2019-167199|OFF-AR-10001662|Rogers Handheld B...|   ME-17320|      42420|   Henderson|  South|       0|     2.0|     0.0|  1.4796|   5.48|         699|\n",
            "|US-2019-106054|OFF-AR-10002399|Dixon Prang Water...|   JO-15145|      30605|      Athens|  South|       0|     3.0|     0.0|  5.2398|  12.78|          14|\n",
            "|US-2019-167199|OFF-PA-10000955|Southworth 25% Co...|   ME-17320|      42420|   Henderson|  South|       0|     1.0|     0.0|  3.0084|   6.54|         699|\n",
            "|US-2019-167199|TEC-PH-10004539|Wireless Extender...|   ME-17320|      42420|   Henderson|  South|       0|     4.0|     0.0|204.1092| 755.96|        1068|\n",
            "|US-2019-167199|TEC-PH-10004977|         GE 30524EE4|   ME-17320|      42420|   Henderson|  South|       0|     2.0|     0.0|113.6742| 391.98|        1068|\n",
            "|US-2019-167199|OFF-BI-10004632|Ibico Hi-Tech Man...|   ME-17320|      42420|   Henderson|  South|       0|     2.0|     0.0| 274.491| 609.98|         699|\n",
            "|US-2019-167199|OFF-FA-10001883|Alliance Super-Si...|   ME-17320|      42420|   Henderson|  South|       0|     4.0|     0.0|  0.3112|  31.12|         699|\n",
            "|US-2019-105417|FUR-FU-10004864|\"Howard Miller 14...|   VS-21820|      77340|  Huntsville|Central|       0|     3.0|     0.6|-53.7096| 76.728|          81|\n",
            "|US-2019-105417|OFF-BI-10003708|Acco Four Pocket ...|   VS-21820|      77340|  Huntsville|Central|       0|     7.0|     0.8|-18.2525|  10.43|          11|\n",
            "|US-2019-135405|TEC-AC-10001266|Memorex Micro Tra...|   MS-17830|      78041|      Laredo|Central|       0|     3.0|     0.2|    9.75|   31.2|          29|\n",
            "|US-2019-135405|OFF-AR-10004078|          Newell 312|   MS-17830|      78041|      Laredo|Central|       0|     2.0|     0.2|   1.168|  9.344|           9|\n",
            "|US-2019-149020|FUR-FU-10000965|\"Howard Miller 11...|   AJ-10780|      22153| Springfield|  South|       0|     1.0|     0.0| 21.2954|  51.94|          47|\n",
            "|US-2019-149020|OFF-LA-10004272|           Avery 482|   AJ-10780|      22153| Springfield|  South|       0|     1.0|     0.0|  1.3583|   2.89|           3|\n",
            "+--------------+---------------+--------------------+-----------+-----------+------------+-------+--------+--------+--------+--------+-------+------------+\n",
            "only showing top 20 rows\n",
            "\n"
          ]
        }
      ]
    },
    {
      "cell_type": "code",
      "source": [
        "#distinct values in category column\n",
        "GS_Sales_Data_Combined.select(\"Category\").distinct().show()"
      ],
      "metadata": {
        "colab": {
          "base_uri": "https://localhost:8080/"
        },
        "id": "K3tuPMp-_ceX",
        "outputId": "c3bdb3a6-ce1d-45ad-c2a9-153a4241ba75"
      },
      "execution_count": 30,
      "outputs": [
        {
          "output_type": "stream",
          "name": "stdout",
          "text": [
            "+---------------+\n",
            "|       Category|\n",
            "+---------------+\n",
            "|Office Supplies|\n",
            "|      Furniture|\n",
            "|     Technology|\n",
            "+---------------+\n",
            "\n"
          ]
        }
      ]
    },
    {
      "cell_type": "code",
      "source": [
        "#creating product dimension table\n",
        "Product_dim = GS_Sales_Data_Combined.select(['Product ID', 'Product Name', 'Category', 'Sub-Category'])\n",
        "\n",
        "#show unique rows\n",
        "Product_dim = Product_dim.distinct()\n",
        "\n",
        "Product_dim.printSchema()\n",
        "#sort by product ID\n",
        "Product_dim = Product_dim.sort('Product ID')\n",
        "Product_dim.show()"
      ],
      "metadata": {
        "colab": {
          "base_uri": "https://localhost:8080/"
        },
        "id": "FC4b5mnJElRP",
        "outputId": "e4d2d6db-06ce-40f7-f3e1-2198da8c2305"
      },
      "execution_count": 31,
      "outputs": [
        {
          "output_type": "stream",
          "name": "stdout",
          "text": [
            "root\n",
            " |-- Product ID: string (nullable = true)\n",
            " |-- Product Name: string (nullable = true)\n",
            " |-- Category: string (nullable = true)\n",
            " |-- Sub-Category: string (nullable = true)\n",
            "\n",
            "+---------------+--------------------+---------+------------+\n",
            "|     Product ID|        Product Name| Category|Sub-Category|\n",
            "+---------------+--------------------+---------+------------+\n",
            "|FUR-BO-10000112|Bush Birmingham C...|Furniture|   Bookcases|\n",
            "|FUR-BO-10000330|Sauder Camden Cou...|Furniture|   Bookcases|\n",
            "|FUR-BO-10000362|Sauder Inglewood ...|Furniture|   Bookcases|\n",
            "|FUR-BO-10000468|O'Sullivan 2-Shel...|Furniture|   Bookcases|\n",
            "|FUR-BO-10000711|Hon Metal Bookcas...|Furniture|   Bookcases|\n",
            "|FUR-BO-10000780|O'Sullivan Planta...|Furniture|   Bookcases|\n",
            "|FUR-BO-10001337|O'Sullivan Living...|Furniture|   Bookcases|\n",
            "|FUR-BO-10001519|O'Sullivan 3-Shel...|Furniture|   Bookcases|\n",
            "|FUR-BO-10001567|Bush Westfield Co...|Furniture|   Bookcases|\n",
            "|FUR-BO-10001601|Sauder Mission Li...|Furniture|   Bookcases|\n",
            "|FUR-BO-10001608|Hon Metal Bookcas...|Furniture|   Bookcases|\n",
            "|FUR-BO-10001619|O'Sullivan Cherry...|Furniture|   Bookcases|\n",
            "|FUR-BO-10001798|Bush Somerset Col...|Furniture|   Bookcases|\n",
            "|FUR-BO-10001811|Atlantic Metals M...|Furniture|   Bookcases|\n",
            "|FUR-BO-10001918|Sauder Forest Hil...|Furniture|   Bookcases|\n",
            "|FUR-BO-10001972|O'Sullivan 4-Shel...|Furniture|   Bookcases|\n",
            "|FUR-BO-10002202|Atlantic Metals M...|Furniture|   Bookcases|\n",
            "|FUR-BO-10002206|Bush Saratoga Col...|Furniture|   Bookcases|\n",
            "|FUR-BO-10002213|Sauder Forest Hil...|Furniture|   Bookcases|\n",
            "|FUR-BO-10002213|DMI Eclipse Execu...|Furniture|   Bookcases|\n",
            "+---------------+--------------------+---------+------------+\n",
            "only showing top 20 rows\n",
            "\n"
          ]
        }
      ]
    },
    {
      "cell_type": "code",
      "source": [
        "#get distinct values of regional manager column\n",
        "GS_Sales_Data_Combined.select('Regional Manager').distinct().show()"
      ],
      "metadata": {
        "colab": {
          "base_uri": "https://localhost:8080/"
        },
        "id": "jhnCHkekFQPb",
        "outputId": "74f726f1-ce1f-497c-b76a-e15f6abfe136"
      },
      "execution_count": 32,
      "outputs": [
        {
          "output_type": "stream",
          "name": "stdout",
          "text": [
            "+-----------------+\n",
            "| Regional Manager|\n",
            "+-----------------+\n",
            "|      Fred Suzuki|\n",
            "|      Chuck Magee|\n",
            "|  Sadie Pawthorne|\n",
            "|Roxanne Rodriguez|\n",
            "|             #N/A|\n",
            "+-----------------+\n",
            "\n"
          ]
        }
      ]
    },
    {
      "cell_type": "code",
      "source": [
        "# checking for the Regions where Regional Manager is equal to #NA\n",
        "GS_Sales_Data_Combined.select('Region', 'Regional Manager').where(GS_Sales_Data_Combined['Regional Manager']=='#N/A').distinct().show()\n",
        "\n",
        "# checking for the Regions where Regional Manager is not equal to #NA\n",
        "GS_Sales_Data_Combined.select('Region', 'Regional Manager').where(GS_Sales_Data_Combined['Regional Manager']!='#N/A').distinct().show()\n",
        "\n",
        "#creating employee dimension table\n",
        "Employee_dim = GS_Sales_Data_Combined.select(['Region' , 'Regional Manager'])\n",
        "\n",
        "Employee_dim = Employee_dim.withColumn(\"Regional Manager\", \\\n",
        "               when(Employee_dim[\"Region\"] == 'West', 'Sadie Pawthorne')\\\n",
        "              .when(Employee_dim[\"Region\"] == 'Central', 'Roxanne Rodriguez')\\\n",
        "              .when(Employee_dim[\"Region\"] == 'South', 'Fred Suzuki')\\\n",
        "              .when(Employee_dim[\"Region\"] == 'East', 'Chuck Magee').otherwise(Employee_dim[\"Regional Manager\"]))\n",
        "\n",
        "Employee_dim = Employee_dim.distinct() \n",
        "Employee_dim.printSchema()\n",
        "Employee_dim.show(10)"
      ],
      "metadata": {
        "colab": {
          "base_uri": "https://localhost:8080/"
        },
        "id": "zAAyzKAZGy-I",
        "outputId": "3627c7e4-e3d8-4f38-bcbe-083b74d24640"
      },
      "execution_count": 33,
      "outputs": [
        {
          "output_type": "stream",
          "name": "stdout",
          "text": [
            "+-------+----------------+\n",
            "| Region|Regional Manager|\n",
            "+-------+----------------+\n",
            "|   West|            #N/A|\n",
            "|Central|            #N/A|\n",
            "|  South|            #N/A|\n",
            "|   East|            #N/A|\n",
            "+-------+----------------+\n",
            "\n",
            "+-------+-----------------+\n",
            "| Region| Regional Manager|\n",
            "+-------+-----------------+\n",
            "|Central|Roxanne Rodriguez|\n",
            "|   West|  Sadie Pawthorne|\n",
            "|  South|      Fred Suzuki|\n",
            "|   East|      Chuck Magee|\n",
            "+-------+-----------------+\n",
            "\n",
            "root\n",
            " |-- Region: string (nullable = true)\n",
            " |-- Regional Manager: string (nullable = true)\n",
            "\n",
            "+-------+-----------------+\n",
            "| Region| Regional Manager|\n",
            "+-------+-----------------+\n",
            "|Central|Roxanne Rodriguez|\n",
            "|   West|  Sadie Pawthorne|\n",
            "|  South|      Fred Suzuki|\n",
            "|   East|      Chuck Magee|\n",
            "+-------+-----------------+\n",
            "\n"
          ]
        }
      ]
    },
    {
      "cell_type": "markdown",
      "source": [
        "Since there are only 4 regional managers and 4 regions we assumed one manager is related to one region and we found regional managers related to regions by retrieving not null columns and replaced the relevent managers in to null columns"
      ],
      "metadata": {
        "id": "E5e-x6RpnCKK"
      }
    },
    {
      "cell_type": "code",
      "source": [],
      "metadata": {
        "id": "FDm0pwAwMUdO"
      },
      "execution_count": 33,
      "outputs": []
    },
    {
      "cell_type": "code",
      "source": [
        "#creating state dimension table\n",
        "state_dim = GS_Sales_Data_Combined.select(['Postal Code','City','Country/Region' , 'State/Province','Region'])\n",
        "state_dim.show(5)\n"
      ],
      "metadata": {
        "colab": {
          "base_uri": "https://localhost:8080/"
        },
        "id": "P4UcsDgPry4D",
        "outputId": "a5c2ad59-2536-41a4-986f-7f8fffddc566"
      },
      "execution_count": 34,
      "outputs": [
        {
          "output_type": "stream",
          "name": "stdout",
          "text": [
            "+-----------+------------+--------------+--------------+-------+\n",
            "|Postal Code|        City|Country/Region|State/Province| Region|\n",
            "+-----------+------------+--------------+--------------+-------+\n",
            "|      77095|     Houston| United States|         Texas|Central|\n",
            "|      60540|  Naperville| United States|      Illinois|Central|\n",
            "|      60540|  Naperville| United States|      Illinois|Central|\n",
            "|      60540|  Naperville| United States|          #N/A|Central|\n",
            "|      19143|Philadelphia| United States|  Pennsylvania|   East|\n",
            "+-----------+------------+--------------+--------------+-------+\n",
            "only showing top 5 rows\n",
            "\n"
          ]
        }
      ]
    },
    {
      "cell_type": "code",
      "source": [
        "#extract postal code and state columns which no null values included\n",
        "df_postal =GS_Sales_Data_Combined.select('Postal Code', 'State/Province').where(GS_Sales_Data_Combined['State/Province']!= '#N/A').distinct()\n",
        "\n",
        "#extract postal codes with null states\n",
        "null_postal= GS_Sales_Data_Combined.select('Postal Code','Country/Region', 'City', 'State/Province').where(GS_Sales_Data_Combined['State/Province']=='#N/A').distinct()\n",
        "\n",
        "#convert null_postal to a list\n",
        "null_postal_list = null_postal.select('Postal Code').rdd.flatMap(lambda x: x).collect()\n",
        "\n",
        "#loop through the null postal list to replace null states using df_postal\n",
        "for i in null_postal_list:\n",
        "  state_dim = state_dim.withColumn(\"State/Province\",when(state_dim[\"Postal Code\"]==i, df_postal.select('State/Province').where(df_postal['Postal Code']== i).head()[0]).otherwise(state_dim[\"State/Province\"]))\n",
        "\n",
        "state_dim = state_dim.distinct()\n",
        "state_dim.printSchema()\n",
        "state_dim.show(20)"
      ],
      "metadata": {
        "colab": {
          "base_uri": "https://localhost:8080/"
        },
        "id": "eSnJ1qZx0NwJ",
        "outputId": "14b493ba-3860-41a1-80b4-5050f0bb3b06"
      },
      "execution_count": 35,
      "outputs": [
        {
          "output_type": "stream",
          "name": "stdout",
          "text": [
            "root\n",
            " |-- Postal Code: string (nullable = true)\n",
            " |-- City: string (nullable = true)\n",
            " |-- Country/Region: string (nullable = true)\n",
            " |-- State/Province: string (nullable = true)\n",
            " |-- Region: string (nullable = true)\n",
            "\n",
            "+-----------+-------------+--------------+--------------+-------+\n",
            "|Postal Code|         City|Country/Region|State/Province| Region|\n",
            "+-----------+-------------+--------------+--------------+-------+\n",
            "|      72209|  Little Rock| United States|      Arkansas|  South|\n",
            "|      36116|   Montgomery| United States|       Alabama|  South|\n",
            "|      54601|    La Crosse| United States|     Wisconsin|Central|\n",
            "|      30080|       Smyrna| United States|       Georgia|  South|\n",
            "|      55122|        Eagan| United States|     Minnesota|Central|\n",
            "|      61107|     Rockford| United States|      Illinois|Central|\n",
            "|      19143| Philadelphia| United States|  Pennsylvania|   East|\n",
            "|      75051|Grand Prairie| United States|         Texas|Central|\n",
            "|      45011|     Hamilton| United States|          Ohio|   East|\n",
            "|      60201|     Evanston| United States|      Illinois|Central|\n",
            "|      46203| Indianapolis| United States|       Indiana|Central|\n",
            "|      92374|     Redlands| United States|    California|   West|\n",
            "|      93277|      Visalia| United States|    California|   West|\n",
            "|      78664|   Round Rock| United States|         Texas|Central|\n",
            "|      92054|    Oceanside| United States|    California|   West|\n",
            "|      80501|     Longmont| United States|      Colorado|   West|\n",
            "|      36608|       Mobile| United States|       Alabama|  South|\n",
            "|      94086|    Sunnyvale| United States|    California|   West|\n",
            "|      80013|       Aurora| United States|      Colorado|   West|\n",
            "|       2908|   Providence| United States|  Rhode Island|   East|\n",
            "+-----------+-------------+--------------+--------------+-------+\n",
            "only showing top 20 rows\n",
            "\n"
          ]
        }
      ]
    },
    {
      "cell_type": "markdown",
      "source": [
        "we extracted the states with postal codes which are not null and used them to replace null values of the State/Province column"
      ],
      "metadata": {
        "id": "Z6IBuLy9rjHr"
      }
    },
    {
      "cell_type": "code",
      "source": [],
      "metadata": {
        "id": "-yt_wP6TsGt-"
      },
      "execution_count": 35,
      "outputs": []
    },
    {
      "cell_type": "code",
      "source": [
        "#creating customer dimension table\n",
        "Customer_dim = GS_Sales_Data_Combined.select(['Customer ID', 'Customer Name' , 'Segment'])\n",
        "Customer_dim.show(5)"
      ],
      "metadata": {
        "colab": {
          "base_uri": "https://localhost:8080/"
        },
        "id": "-a1CUQ-hBZzX",
        "outputId": "8d6585a5-a0e6-4a69-9fb1-8a3747065072"
      },
      "execution_count": 36,
      "outputs": [
        {
          "output_type": "stream",
          "name": "stdout",
          "text": [
            "+-----------+-------------+-----------+\n",
            "|Customer ID|Customer Name|    Segment|\n",
            "+-----------+-------------+-----------+\n",
            "|   DP-13000|Darren Powers|   Consumer|\n",
            "|   PO-19195|Phillina Ober|Home Office|\n",
            "|   PO-19195|Phillina Ober|Home Office|\n",
            "|   PO-19195|Phillina Ober|Home Office|\n",
            "|   MB-18085|   Mick Brown|   Consumer|\n",
            "+-----------+-------------+-----------+\n",
            "only showing top 5 rows\n",
            "\n"
          ]
        }
      ]
    },
    {
      "cell_type": "code",
      "source": [
        "#extract customer ID's with missing customer names\n",
        "missing_cus = Customer_dim.where(Customer_dim['Customer Name']=='#N/A').distinct()\n",
        "\n",
        "#extract customer ID's with not missing customer names\n",
        "other_cus = Customer_dim.where(Customer_dim['Customer Name']!='#N/A').distinct()\n",
        "\n",
        "#convert missing_cus in to a list\n",
        "missing_cus_id_list = missing_cus.select('Customer ID').rdd.flatMap(lambda x: x).collect()\n",
        "\n",
        "#loop through the missing_cus_id_list to find and replace missing customers using other_cus\n",
        "for i in missing_cus_id_list:\n",
        "  Customer_dim = Customer_dim.withColumn('Customer Name',when(Customer_dim[\"Customer ID\"]==i , other_cus.select('Customer Name').where(other_cus['Customer ID']==i).head()[0]).otherwise(Customer_dim[\"Customer Name\"]))\n",
        "\n",
        "Customer_dim = Customer_dim.distinct()\n",
        "Customer_dim.printSchema()\n",
        "Customer_dim.show(20)"
      ],
      "metadata": {
        "colab": {
          "base_uri": "https://localhost:8080/"
        },
        "id": "Q5sC2gSUCVwp",
        "outputId": "4eb34720-99f9-4296-aa49-00edd6774709"
      },
      "execution_count": 37,
      "outputs": [
        {
          "output_type": "stream",
          "name": "stdout",
          "text": [
            "root\n",
            " |-- Customer ID: string (nullable = true)\n",
            " |-- Customer Name: string (nullable = true)\n",
            " |-- Segment: string (nullable = true)\n",
            "\n",
            "+-----------+------------------+-----------+\n",
            "|Customer ID|     Customer Name|    Segment|\n",
            "+-----------+------------------+-----------+\n",
            "|   LS-17200|      Luke Schmidt|  Corporate|\n",
            "|   PN-18775|    Parhena Norris|Home Office|\n",
            "|   DP-13105|      Dave Poirier|  Corporate|\n",
            "|   GH-14665|       Greg Hansen|   Consumer|\n",
            "|   MG-17875|     Michael Grace|Home Office|\n",
            "|   GT-14635|    Grant Thornton|  Corporate|\n",
            "|   GZ-14470|     Gary Zandusky|   Consumer|\n",
            "|   DR-12880|   Dan Reichenbach|  Corporate|\n",
            "|   SU-20665|Stephanie Ulpright|Home Office|\n",
            "|   JM-15580|     Jill Matthias|   Consumer|\n",
            "|   NC-18415|       Nathan Cano|   Consumer|\n",
            "|   SC-20575|      Sonia Cooley|   Consumer|\n",
            "|   DJ-13420|         Denny Joy|  Corporate|\n",
            "|   TS-21085|     Thais Sissman|   Consumer|\n",
            "|   BK-11260|    Berenike Kampe|   Consumer|\n",
            "|   CS-12490|  Cindy Schnelling|  Corporate|\n",
            "|   AG-10390|    Allen Goldenen|   Consumer|\n",
            "|   HF-14995|   Herbert Flentye|   Consumer|\n",
            "|   NP-18700|        Nora Preis|   Consumer|\n",
            "|   HO-15232|       Harry Olson|   Consumer|\n",
            "+-----------+------------------+-----------+\n",
            "only showing top 20 rows\n",
            "\n"
          ]
        }
      ]
    },
    {
      "cell_type": "markdown",
      "source": [
        "Here we replaced missing customer names using customer ID's taken from the not null customer ID's"
      ],
      "metadata": {
        "id": "XRH3mMjRvZTF"
      }
    },
    {
      "cell_type": "code",
      "source": [],
      "metadata": {
        "id": "J9DkUIRGvwWm"
      },
      "execution_count": 37,
      "outputs": []
    },
    {
      "cell_type": "code",
      "source": [
        "#creating order dimension table\n",
        "Order_dim = GS_Sales_Data_Combined.select(['Order ID', 'Order Date', 'Order_Week', 'Ship Date','Ship_Week', 'Ship Mode'])"
      ],
      "metadata": {
        "id": "kv0H4Jm_GW2l"
      },
      "execution_count": 38,
      "outputs": []
    },
    {
      "cell_type": "code",
      "source": [
        "#get distinct rows from order_dim\n",
        "Order_dim = Order_dim.distinct()\n",
        "\n",
        "#order by Order ID\n",
        "Order_dim = Order_dim.sort('Order ID')\n",
        "\n",
        "\n",
        "Order_dim.printSchema()\n",
        "Order_dim.show()"
      ],
      "metadata": {
        "colab": {
          "base_uri": "https://localhost:8080/"
        },
        "id": "Et63moX8GW5E",
        "outputId": "8018f098-75a0-4c6d-b26b-d3d75b090271"
      },
      "execution_count": 39,
      "outputs": [
        {
          "output_type": "stream",
          "name": "stdout",
          "text": [
            "root\n",
            " |-- Order ID: string (nullable = true)\n",
            " |-- Order Date: date (nullable = true)\n",
            " |-- Order_Week: string (nullable = true)\n",
            " |-- Ship Date: date (nullable = true)\n",
            " |-- Ship_Week: string (nullable = true)\n",
            " |-- Ship Mode: string (nullable = true)\n",
            "\n",
            "+--------------+----------+----------+----------+---------+--------------+\n",
            "|      Order ID|Order Date|Order_Week| Ship Date|Ship_Week|     Ship Mode|\n",
            "+--------------+----------+----------+----------+---------+--------------+\n",
            "|CA-2019-100867|2019-10-19|   2019-42|2019-10-24|  2019-43|Standard Class|\n",
            "|CA-2019-107153|2019-09-28|   2019-39|2019-10-03|  2019-40|Standard Class|\n",
            "|CA-2019-115777|2019-08-19|   2019-34|2019-08-24|  2019-34|Standard Class|\n",
            "|CA-2019-117964|2019-12-02|   2019-49|2019-12-06|  2019-49|Standard Class|\n",
            "|CA-2019-123625|2019-12-29|   2019-53|2020-01-02|   2020-1|Standard Class|\n",
            "|CA-2019-125388|2019-10-19|   2019-42|2019-10-23|  2019-43|Standard Class|\n",
            "|CA-2019-126634|2019-12-20|   2019-51|2019-12-22|  2019-52|  Second Class|\n",
            "|CA-2019-129322|2019-08-08|   2019-32|2019-08-10|  2019-32|  Second Class|\n",
            "|CA-2019-132339|2019-08-19|   2019-34|2019-08-23|  2019-34|Standard Class|\n",
            "|CA-2019-141531|2019-12-29|   2019-53|2020-01-02|   2020-1|Standard Class|\n",
            "|CA-2019-143500|2019-12-30|   2019-53|2020-01-03|   2020-1|Standard Class|\n",
            "|CA-2019-146626|2019-12-29|   2019-53|2020-01-05|   2020-2|Standard Class|\n",
            "|CA-2019-152443|2019-05-21|   2019-21|2019-05-26|  2019-22|Standard Class|\n",
            "|CA-2019-153623|2019-11-24|   2019-48|2019-12-05|  2019-49|Standard Class|\n",
            "|CA-2019-153738|2019-09-20|   2019-38|2019-09-22|  2019-39|   First Class|\n",
            "|CA-2019-166086|2019-05-07|   2019-19|2019-05-12|  2019-20|Standard Class|\n",
            "|CA-2020-119508|2020-12-04|   2020-49|2020-12-09|  2020-50|Standard Class|\n",
            "|CA-2020-129322|2020-08-08|   2020-32|2020-08-10|  2020-33|  Second Class|\n",
            "|CA-2020-132548|2020-05-07|   2020-19|2020-05-12|  2020-20|Standard Class|\n",
            "|CA-2020-139675|2020-03-13|   2020-11|2020-03-18|  2020-12|  Second Class|\n",
            "+--------------+----------+----------+----------+---------+--------------+\n",
            "only showing top 20 rows\n",
            "\n"
          ]
        }
      ]
    },
    {
      "cell_type": "code",
      "source": [],
      "metadata": {
        "id": "_7HPB0ChGpYF"
      },
      "execution_count": 39,
      "outputs": []
    },
    {
      "cell_type": "code",
      "source": [],
      "metadata": {
        "id": "kTKMSPpRGtN3"
      },
      "execution_count": 39,
      "outputs": []
    },
    {
      "cell_type": "code",
      "source": [
        "import seaborn as sns\n",
        "import matplotlib.pyplot as plt\n",
        "import numpy as np"
      ],
      "metadata": {
        "id": "ycTurxKpGtRl"
      },
      "execution_count": 40,
      "outputs": []
    },
    {
      "cell_type": "code",
      "source": [
        "#convert GS_Sales_Data_Combined data set into a pandas dataframe to to EDA\n",
        "GS_pd = GS_Sales_Data_Combined.toPandas()"
      ],
      "metadata": {
        "id": "YBlIj-qvSEfJ"
      },
      "execution_count": 41,
      "outputs": []
    },
    {
      "cell_type": "code",
      "source": [
        "GS_pd.head()"
      ],
      "metadata": {
        "colab": {
          "base_uri": "https://localhost:8080/",
          "height": 664
        },
        "id": "wj7qZ4VMSPW6",
        "outputId": "2d630e95-979b-4eac-df56-d9f82e7f5940"
      },
      "execution_count": 42,
      "outputs": [
        {
          "output_type": "execute_result",
          "data": {
            "text/plain": [
              "   Row ID        Order ID  Order Date Order_Week   Ship Date Ship_Week  \\\n",
              "0       1  US-2019-103800  2019-01-03     2019-1  2019-01-07    2019-2   \n",
              "1       2  US-2019-112326  2019-01-04     2019-1  2019-01-08    2019-2   \n",
              "2       3  US-2019-112326  2019-01-04     2019-1  2019-01-08    2019-2   \n",
              "3       4  US-2019-112326  2019-01-04     2019-1  2019-01-08    2019-2   \n",
              "4       5  US-2019-141817  2019-01-05     2019-1  2019-01-12    2019-2   \n",
              "\n",
              "        Ship Mode Customer ID  Customer Name      Segment  ...  \\\n",
              "0  Standard Class    DP-13000  Darren Powers     Consumer  ...   \n",
              "1  Standard Class    PO-19195  Phillina Ober  Home Office  ...   \n",
              "2  Standard Class    PO-19195  Phillina Ober  Home Office  ...   \n",
              "3  Standard Class    PO-19195  Phillina Ober  Home Office  ...   \n",
              "4  Standard Class    MB-18085     Mick Brown     Consumer  ...   \n",
              "\n",
              "        Product ID         Category Sub-Category  \\\n",
              "0  OFF-PA-10000174  Office Supplies        Paper   \n",
              "1  OFF-BI-10004094  Office Supplies      Binders   \n",
              "2  OFF-LA-10003223  Office Supplies       Labels   \n",
              "3  OFF-ST-10002743  Office Supplies      Storage   \n",
              "4  OFF-AR-10003478  Office Supplies          Art   \n",
              "\n",
              "                                        Product Name    Sales Quantity  \\\n",
              "0  \"Message Book, Wirebound, Four 5 1/2\"\" X 4\"\" F...   16.448      2.0   \n",
              "1         GBC Standard Plastic Binding Systems Combs    3.540      2.0   \n",
              "2                                          Avery 508   11.784      3.0   \n",
              "3                      SAFCO Boltless Steel Shelving  272.736      3.0   \n",
              "4  Avery Hi-Liter EverBold Pen Style Fluorescent ...   19.536      3.0   \n",
              "\n",
              "  Discount   Profit Returned Sales Target  \n",
              "0      0.2   5.5512     #N/A           15  \n",
              "1      0.8  -5.4870     #N/A          300  \n",
              "2      0.2   4.2717     #N/A          300  \n",
              "3      0.2 -64.7748     #N/A          300  \n",
              "4      0.2   4.8840     #N/A           21  \n",
              "\n",
              "[5 rows x 26 columns]"
            ],
            "text/html": [
              "\n",
              "  <div id=\"df-d6a7cb9e-142d-4f2f-98c9-7ee2c8a3d6e7\">\n",
              "    <div class=\"colab-df-container\">\n",
              "      <div>\n",
              "<style scoped>\n",
              "    .dataframe tbody tr th:only-of-type {\n",
              "        vertical-align: middle;\n",
              "    }\n",
              "\n",
              "    .dataframe tbody tr th {\n",
              "        vertical-align: top;\n",
              "    }\n",
              "\n",
              "    .dataframe thead th {\n",
              "        text-align: right;\n",
              "    }\n",
              "</style>\n",
              "<table border=\"1\" class=\"dataframe\">\n",
              "  <thead>\n",
              "    <tr style=\"text-align: right;\">\n",
              "      <th></th>\n",
              "      <th>Row ID</th>\n",
              "      <th>Order ID</th>\n",
              "      <th>Order Date</th>\n",
              "      <th>Order_Week</th>\n",
              "      <th>Ship Date</th>\n",
              "      <th>Ship_Week</th>\n",
              "      <th>Ship Mode</th>\n",
              "      <th>Customer ID</th>\n",
              "      <th>Customer Name</th>\n",
              "      <th>Segment</th>\n",
              "      <th>...</th>\n",
              "      <th>Product ID</th>\n",
              "      <th>Category</th>\n",
              "      <th>Sub-Category</th>\n",
              "      <th>Product Name</th>\n",
              "      <th>Sales</th>\n",
              "      <th>Quantity</th>\n",
              "      <th>Discount</th>\n",
              "      <th>Profit</th>\n",
              "      <th>Returned</th>\n",
              "      <th>Sales Target</th>\n",
              "    </tr>\n",
              "  </thead>\n",
              "  <tbody>\n",
              "    <tr>\n",
              "      <th>0</th>\n",
              "      <td>1</td>\n",
              "      <td>US-2019-103800</td>\n",
              "      <td>2019-01-03</td>\n",
              "      <td>2019-1</td>\n",
              "      <td>2019-01-07</td>\n",
              "      <td>2019-2</td>\n",
              "      <td>Standard Class</td>\n",
              "      <td>DP-13000</td>\n",
              "      <td>Darren Powers</td>\n",
              "      <td>Consumer</td>\n",
              "      <td>...</td>\n",
              "      <td>OFF-PA-10000174</td>\n",
              "      <td>Office Supplies</td>\n",
              "      <td>Paper</td>\n",
              "      <td>\"Message Book, Wirebound, Four 5 1/2\"\" X 4\"\" F...</td>\n",
              "      <td>16.448</td>\n",
              "      <td>2.0</td>\n",
              "      <td>0.2</td>\n",
              "      <td>5.5512</td>\n",
              "      <td>#N/A</td>\n",
              "      <td>15</td>\n",
              "    </tr>\n",
              "    <tr>\n",
              "      <th>1</th>\n",
              "      <td>2</td>\n",
              "      <td>US-2019-112326</td>\n",
              "      <td>2019-01-04</td>\n",
              "      <td>2019-1</td>\n",
              "      <td>2019-01-08</td>\n",
              "      <td>2019-2</td>\n",
              "      <td>Standard Class</td>\n",
              "      <td>PO-19195</td>\n",
              "      <td>Phillina Ober</td>\n",
              "      <td>Home Office</td>\n",
              "      <td>...</td>\n",
              "      <td>OFF-BI-10004094</td>\n",
              "      <td>Office Supplies</td>\n",
              "      <td>Binders</td>\n",
              "      <td>GBC Standard Plastic Binding Systems Combs</td>\n",
              "      <td>3.540</td>\n",
              "      <td>2.0</td>\n",
              "      <td>0.8</td>\n",
              "      <td>-5.4870</td>\n",
              "      <td>#N/A</td>\n",
              "      <td>300</td>\n",
              "    </tr>\n",
              "    <tr>\n",
              "      <th>2</th>\n",
              "      <td>3</td>\n",
              "      <td>US-2019-112326</td>\n",
              "      <td>2019-01-04</td>\n",
              "      <td>2019-1</td>\n",
              "      <td>2019-01-08</td>\n",
              "      <td>2019-2</td>\n",
              "      <td>Standard Class</td>\n",
              "      <td>PO-19195</td>\n",
              "      <td>Phillina Ober</td>\n",
              "      <td>Home Office</td>\n",
              "      <td>...</td>\n",
              "      <td>OFF-LA-10003223</td>\n",
              "      <td>Office Supplies</td>\n",
              "      <td>Labels</td>\n",
              "      <td>Avery 508</td>\n",
              "      <td>11.784</td>\n",
              "      <td>3.0</td>\n",
              "      <td>0.2</td>\n",
              "      <td>4.2717</td>\n",
              "      <td>#N/A</td>\n",
              "      <td>300</td>\n",
              "    </tr>\n",
              "    <tr>\n",
              "      <th>3</th>\n",
              "      <td>4</td>\n",
              "      <td>US-2019-112326</td>\n",
              "      <td>2019-01-04</td>\n",
              "      <td>2019-1</td>\n",
              "      <td>2019-01-08</td>\n",
              "      <td>2019-2</td>\n",
              "      <td>Standard Class</td>\n",
              "      <td>PO-19195</td>\n",
              "      <td>Phillina Ober</td>\n",
              "      <td>Home Office</td>\n",
              "      <td>...</td>\n",
              "      <td>OFF-ST-10002743</td>\n",
              "      <td>Office Supplies</td>\n",
              "      <td>Storage</td>\n",
              "      <td>SAFCO Boltless Steel Shelving</td>\n",
              "      <td>272.736</td>\n",
              "      <td>3.0</td>\n",
              "      <td>0.2</td>\n",
              "      <td>-64.7748</td>\n",
              "      <td>#N/A</td>\n",
              "      <td>300</td>\n",
              "    </tr>\n",
              "    <tr>\n",
              "      <th>4</th>\n",
              "      <td>5</td>\n",
              "      <td>US-2019-141817</td>\n",
              "      <td>2019-01-05</td>\n",
              "      <td>2019-1</td>\n",
              "      <td>2019-01-12</td>\n",
              "      <td>2019-2</td>\n",
              "      <td>Standard Class</td>\n",
              "      <td>MB-18085</td>\n",
              "      <td>Mick Brown</td>\n",
              "      <td>Consumer</td>\n",
              "      <td>...</td>\n",
              "      <td>OFF-AR-10003478</td>\n",
              "      <td>Office Supplies</td>\n",
              "      <td>Art</td>\n",
              "      <td>Avery Hi-Liter EverBold Pen Style Fluorescent ...</td>\n",
              "      <td>19.536</td>\n",
              "      <td>3.0</td>\n",
              "      <td>0.2</td>\n",
              "      <td>4.8840</td>\n",
              "      <td>#N/A</td>\n",
              "      <td>21</td>\n",
              "    </tr>\n",
              "  </tbody>\n",
              "</table>\n",
              "<p>5 rows × 26 columns</p>\n",
              "</div>\n",
              "      <button class=\"colab-df-convert\" onclick=\"convertToInteractive('df-d6a7cb9e-142d-4f2f-98c9-7ee2c8a3d6e7')\"\n",
              "              title=\"Convert this dataframe to an interactive table.\"\n",
              "              style=\"display:none;\">\n",
              "        \n",
              "  <svg xmlns=\"http://www.w3.org/2000/svg\" height=\"24px\"viewBox=\"0 0 24 24\"\n",
              "       width=\"24px\">\n",
              "    <path d=\"M0 0h24v24H0V0z\" fill=\"none\"/>\n",
              "    <path d=\"M18.56 5.44l.94 2.06.94-2.06 2.06-.94-2.06-.94-.94-2.06-.94 2.06-2.06.94zm-11 1L8.5 8.5l.94-2.06 2.06-.94-2.06-.94L8.5 2.5l-.94 2.06-2.06.94zm10 10l.94 2.06.94-2.06 2.06-.94-2.06-.94-.94-2.06-.94 2.06-2.06.94z\"/><path d=\"M17.41 7.96l-1.37-1.37c-.4-.4-.92-.59-1.43-.59-.52 0-1.04.2-1.43.59L10.3 9.45l-7.72 7.72c-.78.78-.78 2.05 0 2.83L4 21.41c.39.39.9.59 1.41.59.51 0 1.02-.2 1.41-.59l7.78-7.78 2.81-2.81c.8-.78.8-2.07 0-2.86zM5.41 20L4 18.59l7.72-7.72 1.47 1.35L5.41 20z\"/>\n",
              "  </svg>\n",
              "      </button>\n",
              "      \n",
              "  <style>\n",
              "    .colab-df-container {\n",
              "      display:flex;\n",
              "      flex-wrap:wrap;\n",
              "      gap: 12px;\n",
              "    }\n",
              "\n",
              "    .colab-df-convert {\n",
              "      background-color: #E8F0FE;\n",
              "      border: none;\n",
              "      border-radius: 50%;\n",
              "      cursor: pointer;\n",
              "      display: none;\n",
              "      fill: #1967D2;\n",
              "      height: 32px;\n",
              "      padding: 0 0 0 0;\n",
              "      width: 32px;\n",
              "    }\n",
              "\n",
              "    .colab-df-convert:hover {\n",
              "      background-color: #E2EBFA;\n",
              "      box-shadow: 0px 1px 2px rgba(60, 64, 67, 0.3), 0px 1px 3px 1px rgba(60, 64, 67, 0.15);\n",
              "      fill: #174EA6;\n",
              "    }\n",
              "\n",
              "    [theme=dark] .colab-df-convert {\n",
              "      background-color: #3B4455;\n",
              "      fill: #D2E3FC;\n",
              "    }\n",
              "\n",
              "    [theme=dark] .colab-df-convert:hover {\n",
              "      background-color: #434B5C;\n",
              "      box-shadow: 0px 1px 3px 1px rgba(0, 0, 0, 0.15);\n",
              "      filter: drop-shadow(0px 1px 2px rgba(0, 0, 0, 0.3));\n",
              "      fill: #FFFFFF;\n",
              "    }\n",
              "  </style>\n",
              "\n",
              "      <script>\n",
              "        const buttonEl =\n",
              "          document.querySelector('#df-d6a7cb9e-142d-4f2f-98c9-7ee2c8a3d6e7 button.colab-df-convert');\n",
              "        buttonEl.style.display =\n",
              "          google.colab.kernel.accessAllowed ? 'block' : 'none';\n",
              "\n",
              "        async function convertToInteractive(key) {\n",
              "          const element = document.querySelector('#df-d6a7cb9e-142d-4f2f-98c9-7ee2c8a3d6e7');\n",
              "          const dataTable =\n",
              "            await google.colab.kernel.invokeFunction('convertToInteractive',\n",
              "                                                     [key], {});\n",
              "          if (!dataTable) return;\n",
              "\n",
              "          const docLinkHtml = 'Like what you see? Visit the ' +\n",
              "            '<a target=\"_blank\" href=https://colab.research.google.com/notebooks/data_table.ipynb>data table notebook</a>'\n",
              "            + ' to learn more about interactive tables.';\n",
              "          element.innerHTML = '';\n",
              "          dataTable['output_type'] = 'display_data';\n",
              "          await google.colab.output.renderOutput(dataTable, element);\n",
              "          const docLink = document.createElement('div');\n",
              "          docLink.innerHTML = docLinkHtml;\n",
              "          element.appendChild(docLink);\n",
              "        }\n",
              "      </script>\n",
              "    </div>\n",
              "  </div>\n",
              "  "
            ]
          },
          "metadata": {},
          "execution_count": 42
        }
      ]
    },
    {
      "cell_type": "code",
      "source": [
        "plt.figure(figsize = (20,8))\n",
        "sns.regplot(x=GS_pd['Quantity'] , y=GS_pd['Sales'])"
      ],
      "metadata": {
        "colab": {
          "base_uri": "https://localhost:8080/",
          "height": 514
        },
        "id": "lya1gqupSdsj",
        "outputId": "3917e924-bde5-4d83-d935-2cc9a9c25e02"
      },
      "execution_count": 43,
      "outputs": [
        {
          "output_type": "execute_result",
          "data": {
            "text/plain": [
              "<AxesSubplot:xlabel='Quantity', ylabel='Sales'>"
            ]
          },
          "metadata": {},
          "execution_count": 43
        },
        {
          "output_type": "display_data",
          "data": {
            "text/plain": [
              "<Figure size 1440x576 with 1 Axes>"
            ],
            "image/png": "[encoded data removed]"
          },
          "metadata": {
            "needs_background": "light"
          }
        }
      ]
    },
    {
      "cell_type": "markdown",
      "source": [
        "we can see higher sales amount for the lower quantities\n",
        "\n",
        "also there is no strong correlation between quantity and sales"
      ],
      "metadata": {
        "id": "AJWz88dXxChz"
      }
    },
    {
      "cell_type": "code",
      "source": [],
      "metadata": {
        "id": "SW0cZS3XTnPL"
      },
      "execution_count": 43,
      "outputs": []
    },
    {
      "cell_type": "code",
      "source": [
        "plt.figure(figsize = (20,8))\n",
        "\n",
        "sns.boxplot(x= GS_pd['Sales'])"
      ],
      "metadata": {
        "colab": {
          "base_uri": "https://localhost:8080/",
          "height": 514
        },
        "id": "guicD2hdXGKj",
        "outputId": "8664ab08-a366-48d9-f59e-66e3bb98ce26"
      },
      "execution_count": 44,
      "outputs": [
        {
          "output_type": "execute_result",
          "data": {
            "text/plain": [
              "<AxesSubplot:xlabel='Sales'>"
            ]
          },
          "metadata": {},
          "execution_count": 44
        },
        {
          "output_type": "display_data",
          "data": {
            "text/plain": [
              "<Figure size 1440x576 with 1 Axes>"
            ],
            "image/png": "[encoded data removed]"
          },
          "metadata": {
            "needs_background": "light"
          }
        }
      ]
    },
    {
      "cell_type": "markdown",
      "source": [
        "we can see some outliers in the sales column|"
      ],
      "metadata": {
        "id": "_U6TVwa_xwn1"
      }
    },
    {
      "cell_type": "code",
      "source": [
        "#lets find lower and upper limits of the sales distribution in order to find and remove outliers\n",
        "q1 = np.nanpercentile(GS_pd['Sales'], 25)\n",
        "q3 = np.nanpercentile(GS_pd['Sales'], 75)\n",
        "\n",
        "iqr = q3 - q1\n",
        "lower_lim = q1-1.5*iqr\n",
        "upper_lim = q3+1.5*iqr\n",
        "q1\n",
        "print(lower_lim)\n",
        "print(upper_lim)"
      ],
      "metadata": {
        "colab": {
          "base_uri": "https://localhost:8080/"
        },
        "id": "rxLO0XYNX8hK",
        "outputId": "6eb57805-6c16-4a20-c9ec-4912fc0712b5"
      },
      "execution_count": 45,
      "outputs": [
        {
          "output_type": "stream",
          "name": "stdout",
          "text": [
            "-275.71\n",
            "506.13\n"
          ]
        }
      ]
    },
    {
      "cell_type": "markdown",
      "source": [
        "-275.71 is not valid for sales data. Therefore we can consider 0 to 507 range"
      ],
      "metadata": {
        "id": "h6mpRcyGcET2"
      }
    },
    {
      "cell_type": "code",
      "source": [],
      "metadata": {
        "id": "dAawDqgDyLiU"
      },
      "execution_count": 45,
      "outputs": []
    },
    {
      "cell_type": "code",
      "source": [
        "plt.figure(figsize = (20,10))\n",
        "sns.histplot(x = GS_pd['Sales'][GS_pd['Sales']<507] , kde=True)"
      ],
      "metadata": {
        "colab": {
          "base_uri": "https://localhost:8080/",
          "height": 623
        },
        "id": "G1WI8ANHcHp9",
        "outputId": "690feda8-6d9a-4d87-9f1f-cf72a21e0962"
      },
      "execution_count": 46,
      "outputs": [
        {
          "output_type": "execute_result",
          "data": {
            "text/plain": [
              "<AxesSubplot:xlabel='Sales', ylabel='Count'>"
            ]
          },
          "metadata": {},
          "execution_count": 46
        },
        {
          "output_type": "display_data",
          "data": {
            "text/plain": [
              "<Figure size 1440x720 with 1 Axes>"
            ],
            "image/png": "[encoded data removed]"
          },
          "metadata": {
            "needs_background": "light"
          }
        }
      ]
    },
    {
      "cell_type": "markdown",
      "source": [
        "Sales data are right skewed indicates greater the sales amount lesser the count"
      ],
      "metadata": {
        "id": "4JhrblIndZmV"
      }
    },
    {
      "cell_type": "code",
      "source": [],
      "metadata": {
        "id": "BUNNrWqxffdR"
      },
      "execution_count": 46,
      "outputs": []
    },
    {
      "cell_type": "code",
      "source": [
        "plt.figure(figsize = (20,8))\n",
        "sales_prod = Sales_fact.join(Product_dim , on=Sales_fact['Product ID']==Product_dim['Product ID'] , how='inner')\n",
        "sales_prod_pd = sales_prod.toPandas()\n",
        "sns.histplot(x = sales_prod_pd['Sales'][sales_prod_pd['Sales']<507] ,  hue = sales_prod_pd['Category'],  multiple=\"stack\" )"
      ],
      "metadata": {
        "colab": {
          "base_uri": "https://localhost:8080/",
          "height": 514
        },
        "id": "aTIUsezjfffh",
        "outputId": "a4c055e2-d830-42e4-cefe-043d99e6fcf5"
      },
      "execution_count": 47,
      "outputs": [
        {
          "output_type": "execute_result",
          "data": {
            "text/plain": [
              "<AxesSubplot:xlabel='Sales', ylabel='Count'>"
            ]
          },
          "metadata": {},
          "execution_count": 47
        },
        {
          "output_type": "display_data",
          "data": {
            "text/plain": [
              "<Figure size 1440x576 with 1 Axes>"
            ],
            "image/png": "[encoded data removed]"
          },
          "metadata": {
            "needs_background": "light"
          }
        }
      ]
    },
    {
      "cell_type": "markdown",
      "source": [
        "office supplies are more likely to sell"
      ],
      "metadata": {
        "id": "h85CauxYieAa"
      }
    },
    {
      "cell_type": "code",
      "source": [],
      "metadata": {
        "id": "KMXT-SMMyVq_"
      },
      "execution_count": 47,
      "outputs": []
    },
    {
      "cell_type": "code",
      "source": [
        "plt.figure(figsize = (20,8))\n",
        "sales_emp = Sales_fact.join(Employee_dim , on=Sales_fact['Region']==Employee_dim['Region'] , how='inner')\n",
        "sales_emp_pd = sales_emp.toPandas()\n",
        "sns.barplot(x=sales_emp_pd['Regional Manager'] , y=sales_emp_pd['Sales'] )"
      ],
      "metadata": {
        "colab": {
          "base_uri": "https://localhost:8080/",
          "height": 514
        },
        "id": "bcppQ1lmhjA-",
        "outputId": "b24dc23f-a16b-4588-dcb5-257fae525f23"
      },
      "execution_count": 48,
      "outputs": [
        {
          "output_type": "execute_result",
          "data": {
            "text/plain": [
              "<AxesSubplot:xlabel='Regional Manager', ylabel='Sales'>"
            ]
          },
          "metadata": {},
          "execution_count": 48
        },
        {
          "output_type": "display_data",
          "data": {
            "text/plain": [
              "<Figure size 1440x576 with 1 Axes>"
            ],
            "image/png": "[encoded data removed]"
          },
          "metadata": {
            "needs_background": "light"
          }
        }
      ]
    },
    {
      "cell_type": "markdown",
      "source": [
        "Fred Suzuki and Chuck Magee seems to be equally contributed for sales while Roxanne Rodriguez has the least contribution"
      ],
      "metadata": {
        "id": "LGTZ6e0tn_kV"
      }
    },
    {
      "cell_type": "code",
      "source": [],
      "metadata": {
        "id": "Q9lS7UpTyaHZ"
      },
      "execution_count": 48,
      "outputs": []
    },
    {
      "cell_type": "code",
      "source": [
        "plt.figure(figsize = (20,10))\n",
        "Sales_fact_pd = Sales_fact.toPandas()\n",
        "sns.catplot(data=Sales_fact_pd, x=\"Region\", y=\"Sales\")"
      ],
      "metadata": {
        "colab": {
          "base_uri": "https://localhost:8080/",
          "height": 404
        },
        "id": "fa6XTxt3oZeL",
        "outputId": "7bd27942-ae67-43d3-a965-3d33378b8d6c"
      },
      "execution_count": 49,
      "outputs": [
        {
          "output_type": "execute_result",
          "data": {
            "text/plain": [
              "<seaborn.axisgrid.FacetGrid at 0x7f12a19bc730>"
            ]
          },
          "metadata": {},
          "execution_count": 49
        },
        {
          "output_type": "display_data",
          "data": {
            "text/plain": [
              "<Figure size 1440x720 with 0 Axes>"
            ]
          },
          "metadata": {}
        },
        {
          "output_type": "display_data",
          "data": {
            "text/plain": [
              "<Figure size 360x360 with 1 Axes>"
            ],
            "image/png": "[encoded data removed]"
          },
          "metadata": {
            "needs_background": "light"
          }
        }
      ]
    },
    {
      "cell_type": "markdown",
      "source": [
        "when we consider region and sales sales are seems to be equally distributed among the 4 regions"
      ],
      "metadata": {
        "id": "xLUKzZLJzTRH"
      }
    },
    {
      "cell_type": "code",
      "source": [],
      "metadata": {
        "id": "p22FR-n79WDM"
      },
      "execution_count": 49,
      "outputs": []
    },
    {
      "cell_type": "code",
      "source": [],
      "metadata": {
        "id": "oKhB5y9n9WFp"
      },
      "execution_count": 49,
      "outputs": []
    },
    {
      "cell_type": "code",
      "source": [
        "GS_Sales_Data_Combined.createOrReplaceTempView(\"GS_Sales_Data_Combined\")\n",
        "\n",
        "#Extract the year and sum(profit) from GS_Sales_Data_Combined to do some EDA between profit vs year\n",
        "profit_by_year=spark.sql(\"\"\"select EXTRACT(year FROM `Order Date`) as year,sum(Profit) as Profit\n",
        "from GS_Sales_Data_Combined group by year\"\"\")\n",
        "\n",
        "#convert spark dataframe into a pandas dataframe\n",
        "profit_year_pd=profit_by_year.toPandas()"
      ],
      "metadata": {
        "id": "5FHP8-_i9WII"
      },
      "execution_count": 50,
      "outputs": []
    },
    {
      "cell_type": "code",
      "source": [],
      "metadata": {
        "id": "Y-1EhTTc-U-J"
      },
      "execution_count": 50,
      "outputs": []
    },
    {
      "cell_type": "code",
      "source": [
        "#Extract category,year sum(profit) from GS_Sales_Data_Combined to compare profit of categories among years\n",
        "profit_and_category_by_year=spark.sql(\"\"\"select EXTRACT(year FROM `Order Date`) as year,Category,sum(Profit) as Profit\n",
        "from GS_Sales_Data_Combined group by year,Category\"\"\")\n",
        "profit_and_category_by_year_pd=profit_and_category_by_year.toPandas()"
      ],
      "metadata": {
        "id": "oWfJT-yr94RM"
      },
      "execution_count": 51,
      "outputs": []
    },
    {
      "cell_type": "code",
      "source": [],
      "metadata": {
        "id": "mHgpaj3k-T_b"
      },
      "execution_count": 51,
      "outputs": []
    },
    {
      "cell_type": "code",
      "source": [
        "plt.figure(figsize = (20,10))\n",
        "sns.lineplot(x = \"year\", y = \"Profit\" ,data = profit_year_pd,palette='Set2').set(title=\"profit vs year \")"
      ],
      "metadata": {
        "colab": {
          "base_uri": "https://localhost:8080/",
          "height": 638
        },
        "id": "3LukTDhs-UDm",
        "outputId": "3901ba0a-8464-4f57-bca7-aebfc939df65"
      },
      "execution_count": 52,
      "outputs": [
        {
          "output_type": "execute_result",
          "data": {
            "text/plain": [
              "[Text(0.5, 1.0, 'profit vs year ')]"
            ]
          },
          "metadata": {},
          "execution_count": 52
        },
        {
          "output_type": "display_data",
          "data": {
            "text/plain": [
              "<Figure size 1440x720 with 1 Axes>"
            ],
            "image/png": "[encoded data removed]"
          },
          "metadata": {
            "needs_background": "light"
          }
        }
      ]
    },
    {
      "cell_type": "markdown",
      "source": [
        "There is a clear upward trend between years and profits"
      ],
      "metadata": {
        "id": "NpcsMeDu1cok"
      }
    },
    {
      "cell_type": "code",
      "source": [],
      "metadata": {
        "id": "ai-rBGZD1mOp"
      },
      "execution_count": 52,
      "outputs": []
    },
    {
      "cell_type": "code",
      "source": [
        "plt.figure(figsize = (20,10))\n",
        "sns.barplot(x='year',hue='Category',y='Profit',data=profit_and_category_by_year_pd).set(title=\"profit variation in each product category and each year \")"
      ],
      "metadata": {
        "colab": {
          "base_uri": "https://localhost:8080/",
          "height": 638
        },
        "id": "wnoVzH3X0wSx",
        "outputId": "99a15583-d828-4496-843d-f532e695e6ee"
      },
      "execution_count": 53,
      "outputs": [
        {
          "output_type": "execute_result",
          "data": {
            "text/plain": [
              "[Text(0.5, 1.0, 'profit variation in each product category and each year ')]"
            ]
          },
          "metadata": {},
          "execution_count": 53
        },
        {
          "output_type": "display_data",
          "data": {
            "text/plain": [
              "<Figure size 1440x720 with 1 Axes>"
            ],
            "image/png": "[encoded data removed]"
          },
          "metadata": {
            "needs_background": "light"
          }
        }
      ]
    },
    {
      "cell_type": "code",
      "source": [],
      "metadata": {
        "id": "R77UjrZLLS_X"
      },
      "execution_count": 53,
      "outputs": []
    },
    {
      "cell_type": "markdown",
      "source": [
        "every year technology category has the highest profit and it has increased year by year\n",
        "\n",
        "furniture category has the least profit"
      ],
      "metadata": {
        "id": "Xrl-JTR51nzD"
      }
    },
    {
      "cell_type": "code",
      "source": [],
      "metadata": {
        "id": "MU3oo99519Nt"
      },
      "execution_count": 53,
      "outputs": []
    },
    {
      "cell_type": "code",
      "source": [
        "#join all created fact and dimension tables to get an final table without null values\n",
        "final_table = Sales_fact.join(Product_dim , Sales_fact['Product ID']==Product_dim['Product ID'] ,'inner').drop(Sales_fact['Product ID']).drop(Sales_fact['Product Name'])\\\n",
        "                        .join(Employee_dim , Sales_fact['Region']==Employee_dim['Region'] , 'inner').drop(Sales_fact['Region']).drop(Employee_dim['Region'])\\\n",
        "                        .join(state_dim.drop('Region') , Sales_fact['Postal Code']==state_dim['Postal Code'] , 'inner').drop(Sales_fact['Postal Code']).drop(Sales_fact['City']).drop(Sales_fact['Region'])\\\n",
        "                        .join(Customer_dim , Sales_fact['Customer ID']==Customer_dim['Customer ID'] , 'inner').drop(Sales_fact['Customer ID'])\\\n",
        "                        .join(Order_dim , Sales_fact['Order ID']==Order_dim['Order ID'] , 'inner').drop(Sales_fact['Order ID'])\n",
        "\n",
        "final_table.printSchema()\n",
        "final_table.show(5)"
      ],
      "metadata": {
        "colab": {
          "base_uri": "https://localhost:8080/"
        },
        "id": "ByTcOOcsXdiR",
        "outputId": "49c4c629-030b-4fab-afed-00cb92500f39"
      },
      "execution_count": 54,
      "outputs": [
        {
          "output_type": "stream",
          "name": "stdout",
          "text": [
            "root\n",
            " |-- Returned: string (nullable = true)\n",
            " |-- Quantity: double (nullable = true)\n",
            " |-- Discount: double (nullable = true)\n",
            " |-- Profit: double (nullable = true)\n",
            " |-- Sales: double (nullable = true)\n",
            " |-- Sales Target: integer (nullable = true)\n",
            " |-- Product ID: string (nullable = true)\n",
            " |-- Product Name: string (nullable = true)\n",
            " |-- Category: string (nullable = true)\n",
            " |-- Sub-Category: string (nullable = true)\n",
            " |-- Region: string (nullable = true)\n",
            " |-- Regional Manager: string (nullable = true)\n",
            " |-- Postal Code: string (nullable = true)\n",
            " |-- City: string (nullable = true)\n",
            " |-- Country/Region: string (nullable = true)\n",
            " |-- State/Province: string (nullable = true)\n",
            " |-- Customer ID: string (nullable = true)\n",
            " |-- Customer Name: string (nullable = true)\n",
            " |-- Segment: string (nullable = true)\n",
            " |-- Order ID: string (nullable = true)\n",
            " |-- Order Date: date (nullable = true)\n",
            " |-- Order_Week: string (nullable = true)\n",
            " |-- Ship Date: date (nullable = true)\n",
            " |-- Ship_Week: string (nullable = true)\n",
            " |-- Ship Mode: string (nullable = true)\n",
            "\n",
            "+--------+--------+--------+-------+-------+------------+---------------+--------------------+---------------+------------+-------+-----------------+-----------+-------------+--------------+--------------+-----------+------------------+-----------+--------------+----------+----------+----------+---------+--------------+\n",
            "|Returned|Quantity|Discount| Profit|  Sales|Sales Target|     Product ID|        Product Name|       Category|Sub-Category| Region| Regional Manager|Postal Code|         City|Country/Region|State/Province|Customer ID|     Customer Name|    Segment|      Order ID|Order Date|Order_Week| Ship Date|Ship_Week|     Ship Mode|\n",
            "+--------+--------+--------+-------+-------+------------+---------------+--------------------+---------------+------------+-------+-----------------+-----------+-------------+--------------+--------------+-----------+------------------+-----------+--------------+----------+----------+----------+---------+--------------+\n",
            "|       0|     4.0|     0.0|27.5632|  59.92|        1326|FUR-FU-10000409|GE 4 Foot Floures...|      Furniture| Furnishings|   West|  Sadie Pawthorne|      90045|  Los Angeles| United States|    California|   BP-11230|Benjamin Patterson|   Consumer|US-2019-101462|2019-04-20|   2019-16|2019-04-25|  2019-17|Standard Class|\n",
            "|     Yes|     5.0|     0.0|  6.206|   21.4|          35|OFF-AR-10003504|          Newell 347|Office Supplies|         Art|   West|  Sadie Pawthorne|      90036|  Los Angeles| United States|    California|   MH-17290|     Marc Harrigan|Home Office|US-2019-116785|2019-04-26|   2019-17|2019-04-30|  2019-18|Standard Class|\n",
            "|       0|     3.0|     0.1|  37.23|167.535|         208|OFF-AP-10002495|Acco Smartsocket ...|Office Supplies|  Appliances|Central|Roxanne Rodriguez|      48183|      Trenton| United States|      Michigan|   MA-17560|      Matt Abelman|Home Office|US-2019-124478|2019-08-08|   2019-32|2019-08-12|  2019-33|Standard Class|\n",
            "|     Yes|     4.0|     0.2|-12.196|195.136|         193|FUR-CH-10003833|Novimex Fabric Ta...|      Furniture|      Chairs|   West|  Sadie Pawthorne|      94122|San Francisco| United States|    California|   BD-11605|      Brian Dahlen|   Consumer|US-2019-164406|2019-08-15|   2019-33|2019-08-19|  2019-34|Standard Class|\n",
            "|       0|     2.0|     0.2|  1.652|   4.72|         216|OFF-EN-10002600|Redi-Strip #10 En...|Office Supplies|   Envelopes|   East|      Chuck Magee|      43229|     Columbus| United States|          Ohio|   RC-19960|        Ryan Crowe|   Consumer|US-2019-115259|2019-08-25|   2019-35|2019-08-27|  2019-35|  Second Class|\n",
            "+--------+--------+--------+-------+-------+------------+---------------+--------------------+---------------+------------+-------+-----------------+-----------+-------------+--------------+--------------+-----------+------------------+-----------+--------------+----------+----------+----------+---------+--------------+\n",
            "only showing top 5 rows\n",
            "\n"
          ]
        }
      ]
    },
    {
      "cell_type": "code",
      "source": [
        "#group the columns and get sum of them to calculate the revenue\n",
        "final_table_grped=final_table.groupBy(['Category', 'Order Date','Segment','Sales Target']).sum('Sales','Quantity','Profit')\n",
        "final_table_grped.show()"
      ],
      "metadata": {
        "colab": {
          "base_uri": "https://localhost:8080/"
        },
        "id": "aHZ7ICHSjxZd",
        "outputId": "7c4283e9-d2a2-40bc-e780-a46b8b8f24a4"
      },
      "execution_count": 55,
      "outputs": [
        {
          "output_type": "stream",
          "name": "stdout",
          "text": [
            "+---------------+----------+-----------+------------+------------------+-------------+------------------+\n",
            "|       Category|Order Date|    Segment|Sales Target|        sum(Sales)|sum(Quantity)|       sum(Profit)|\n",
            "+---------------+----------+-----------+------------+------------------+-------------+------------------+\n",
            "|Office Supplies|2022-12-25|  Corporate|         377|           157.408|       274.62|53.221599999999995|\n",
            "|     Technology|2020-03-29|   Consumer|          47|             53.25|          3.0|           20.7675|\n",
            "|Office Supplies|2022-12-19|   Consumer|        1941|          1780.548|          6.0|27.164799999999996|\n",
            "|Office Supplies|2020-12-23|   Consumer|         185|            194.32|          4.0|           56.3528|\n",
            "|     Technology|2022-12-14|   Consumer|          38|            39.264|          3.0|            -4.908|\n",
            "|Office Supplies|2021-01-28|  Corporate|          43|             39.68|          2.0|           10.3168|\n",
            "|Office Supplies|2020-05-14|Home Office|         502| 570.4920000000001|         29.0|113.41789999999999|\n",
            "|     Technology|2022-05-06|Home Office|         417|           408.744|          7.0|           76.6395|\n",
            "|     Technology|2019-09-08|  Corporate|         113|            116.85|          7.0|43.055099999999996|\n",
            "|Office Supplies|2019-08-26|   Consumer|          18|             20.72|          4.0|10.051400000000001|\n",
            "|      Furniture|2022-05-19|Home Office|         668|           681.408|         12.0|            42.588|\n",
            "|Office Supplies|2022-12-09|  Corporate|         582|           612.801|         23.0|          177.9295|\n",
            "|      Furniture|2019-10-04|   Consumer|         637|            589.41|          5.0|            -6.549|\n",
            "|      Furniture|2021-02-19|   Consumer|          41|             44.46|          2.0|           14.6718|\n",
            "|      Furniture|2021-04-24|Home Office|        1206|           1325.76|          6.0|           149.148|\n",
            "|Office Supplies|2022-06-13|Home Office|         161|              null|      164.736|               0.2|\n",
            "|      Furniture|2020-01-02|  Corporate|         434|            452.45|          5.0|          -244.323|\n",
            "|Office Supplies|2020-11-28|   Consumer|         334|           383.808|         10.0|          133.3912|\n",
            "|Office Supplies|2021-06-20|  Corporate|          52|            54.408|         10.0|23.632800000000003|\n",
            "|Office Supplies|2020-09-27|Home Office|         175|322.10999999999996|          9.0|          157.3836|\n",
            "+---------------+----------+-----------+------------+------------------+-------------+------------------+\n",
            "only showing top 20 rows\n",
            "\n"
          ]
        }
      ]
    },
    {
      "cell_type": "code",
      "source": [],
      "metadata": {
        "id": "PFrmw4_4p-xH"
      },
      "execution_count": 55,
      "outputs": []
    },
    {
      "cell_type": "code",
      "source": [
        "#convert spark dataframe into a pandas dataframe\n",
        "revenue = final_table_grped.toPandas()"
      ],
      "metadata": {
        "id": "-y63l_YwkupO"
      },
      "execution_count": 56,
      "outputs": []
    },
    {
      "cell_type": "code",
      "source": [
        "#calculate and add revenue column to the revenue table\n",
        "revenue['revenue'] = revenue['sum(Sales)'] - revenue['Sales Target']"
      ],
      "metadata": {
        "id": "Z6fOc5_lscsg"
      },
      "execution_count": 57,
      "outputs": []
    },
    {
      "cell_type": "code",
      "source": [
        "#cast date type to str type to split the date in to year , month and days\n",
        "revenue[\"Order Date\"] = revenue[\"Order Date\"].astype(str)"
      ],
      "metadata": {
        "id": "WT1DLNhPu9EH"
      },
      "execution_count": 58,
      "outputs": []
    },
    {
      "cell_type": "code",
      "source": [
        "#split sthe order date column in to three seperate year , month and day columns\n",
        "revenue[[\"year\" ,\"month\" , \"day\"]] = revenue[\"Order Date\"].str.split(\"-\", expand = True)"
      ],
      "metadata": {
        "id": "-fkzX54duSqY"
      },
      "execution_count": 59,
      "outputs": []
    },
    {
      "cell_type": "code",
      "source": [
        "revenue.head()"
      ],
      "metadata": {
        "colab": {
          "base_uri": "https://localhost:8080/",
          "height": 206
        },
        "id": "8QAIhVzus3YQ",
        "outputId": "e12979c7-98f9-405c-e6ac-c1abe070e020"
      },
      "execution_count": 60,
      "outputs": [
        {
          "output_type": "execute_result",
          "data": {
            "text/plain": [
              "          Category  Order Date    Segment  Sales Target  sum(Sales)  \\\n",
              "0  Office Supplies  2022-12-25  Corporate           377     157.408   \n",
              "1       Technology  2020-03-29   Consumer            47      53.250   \n",
              "2  Office Supplies  2022-12-19   Consumer          1941    1780.548   \n",
              "3  Office Supplies  2020-12-23   Consumer           185     194.320   \n",
              "4       Technology  2022-12-14   Consumer            38      39.264   \n",
              "\n",
              "   sum(Quantity)  sum(Profit)  revenue  year month day  \n",
              "0         274.62      53.2216 -219.592  2022    12  25  \n",
              "1           3.00      20.7675    6.250  2020    03  29  \n",
              "2           6.00      27.1648 -160.452  2022    12  19  \n",
              "3           4.00      56.3528    9.320  2020    12  23  \n",
              "4           3.00      -4.9080    1.264  2022    12  14  "
            ],
            "text/html": [
              "\n",
              "  <div id=\"df-2cfa593e-6c08-4b0e-b23b-5494ec830ff4\">\n",
              "    <div class=\"colab-df-container\">\n",
              "      <div>\n",
              "<style scoped>\n",
              "    .dataframe tbody tr th:only-of-type {\n",
              "        vertical-align: middle;\n",
              "    }\n",
              "\n",
              "    .dataframe tbody tr th {\n",
              "        vertical-align: top;\n",
              "    }\n",
              "\n",
              "    .dataframe thead th {\n",
              "        text-align: right;\n",
              "    }\n",
              "</style>\n",
              "<table border=\"1\" class=\"dataframe\">\n",
              "  <thead>\n",
              "    <tr style=\"text-align: right;\">\n",
              "      <th></th>\n",
              "      <th>Category</th>\n",
              "      <th>Order Date</th>\n",
              "      <th>Segment</th>\n",
              "      <th>Sales Target</th>\n",
              "      <th>sum(Sales)</th>\n",
              "      <th>sum(Quantity)</th>\n",
              "      <th>sum(Profit)</th>\n",
              "      <th>revenue</th>\n",
              "      <th>year</th>\n",
              "      <th>month</th>\n",
              "      <th>day</th>\n",
              "    </tr>\n",
              "  </thead>\n",
              "  <tbody>\n",
              "    <tr>\n",
              "      <th>0</th>\n",
              "      <td>Office Supplies</td>\n",
              "      <td>2022-12-25</td>\n",
              "      <td>Corporate</td>\n",
              "      <td>377</td>\n",
              "      <td>157.408</td>\n",
              "      <td>274.62</td>\n",
              "      <td>53.2216</td>\n",
              "      <td>-219.592</td>\n",
              "      <td>2022</td>\n",
              "      <td>12</td>\n",
              "      <td>25</td>\n",
              "    </tr>\n",
              "    <tr>\n",
              "      <th>1</th>\n",
              "      <td>Technology</td>\n",
              "      <td>2020-03-29</td>\n",
              "      <td>Consumer</td>\n",
              "      <td>47</td>\n",
              "      <td>53.250</td>\n",
              "      <td>3.00</td>\n",
              "      <td>20.7675</td>\n",
              "      <td>6.250</td>\n",
              "      <td>2020</td>\n",
              "      <td>03</td>\n",
              "      <td>29</td>\n",
              "    </tr>\n",
              "    <tr>\n",
              "      <th>2</th>\n",
              "      <td>Office Supplies</td>\n",
              "      <td>2022-12-19</td>\n",
              "      <td>Consumer</td>\n",
              "      <td>1941</td>\n",
              "      <td>1780.548</td>\n",
              "      <td>6.00</td>\n",
              "      <td>27.1648</td>\n",
              "      <td>-160.452</td>\n",
              "      <td>2022</td>\n",
              "      <td>12</td>\n",
              "      <td>19</td>\n",
              "    </tr>\n",
              "    <tr>\n",
              "      <th>3</th>\n",
              "      <td>Office Supplies</td>\n",
              "      <td>2020-12-23</td>\n",
              "      <td>Consumer</td>\n",
              "      <td>185</td>\n",
              "      <td>194.320</td>\n",
              "      <td>4.00</td>\n",
              "      <td>56.3528</td>\n",
              "      <td>9.320</td>\n",
              "      <td>2020</td>\n",
              "      <td>12</td>\n",
              "      <td>23</td>\n",
              "    </tr>\n",
              "    <tr>\n",
              "      <th>4</th>\n",
              "      <td>Technology</td>\n",
              "      <td>2022-12-14</td>\n",
              "      <td>Consumer</td>\n",
              "      <td>38</td>\n",
              "      <td>39.264</td>\n",
              "      <td>3.00</td>\n",
              "      <td>-4.9080</td>\n",
              "      <td>1.264</td>\n",
              "      <td>2022</td>\n",
              "      <td>12</td>\n",
              "      <td>14</td>\n",
              "    </tr>\n",
              "  </tbody>\n",
              "</table>\n",
              "</div>\n",
              "      <button class=\"colab-df-convert\" onclick=\"convertToInteractive('df-2cfa593e-6c08-4b0e-b23b-5494ec830ff4')\"\n",
              "              title=\"Convert this dataframe to an interactive table.\"\n",
              "              style=\"display:none;\">\n",
              "        \n",
              "  <svg xmlns=\"http://www.w3.org/2000/svg\" height=\"24px\"viewBox=\"0 0 24 24\"\n",
              "       width=\"24px\">\n",
              "    <path d=\"M0 0h24v24H0V0z\" fill=\"none\"/>\n",
              "    <path d=\"M18.56 5.44l.94 2.06.94-2.06 2.06-.94-2.06-.94-.94-2.06-.94 2.06-2.06.94zm-11 1L8.5 8.5l.94-2.06 2.06-.94-2.06-.94L8.5 2.5l-.94 2.06-2.06.94zm10 10l.94 2.06.94-2.06 2.06-.94-2.06-.94-.94-2.06-.94 2.06-2.06.94z\"/><path d=\"M17.41 7.96l-1.37-1.37c-.4-.4-.92-.59-1.43-.59-.52 0-1.04.2-1.43.59L10.3 9.45l-7.72 7.72c-.78.78-.78 2.05 0 2.83L4 21.41c.39.39.9.59 1.41.59.51 0 1.02-.2 1.41-.59l7.78-7.78 2.81-2.81c.8-.78.8-2.07 0-2.86zM5.41 20L4 18.59l7.72-7.72 1.47 1.35L5.41 20z\"/>\n",
              "  </svg>\n",
              "      </button>\n",
              "      \n",
              "  <style>\n",
              "    .colab-df-container {\n",
              "      display:flex;\n",
              "      flex-wrap:wrap;\n",
              "      gap: 12px;\n",
              "    }\n",
              "\n",
              "    .colab-df-convert {\n",
              "      background-color: #E8F0FE;\n",
              "      border: none;\n",
              "      border-radius: 50%;\n",
              "      cursor: pointer;\n",
              "      display: none;\n",
              "      fill: #1967D2;\n",
              "      height: 32px;\n",
              "      padding: 0 0 0 0;\n",
              "      width: 32px;\n",
              "    }\n",
              "\n",
              "    .colab-df-convert:hover {\n",
              "      background-color: #E2EBFA;\n",
              "      box-shadow: 0px 1px 2px rgba(60, 64, 67, 0.3), 0px 1px 3px 1px rgba(60, 64, 67, 0.15);\n",
              "      fill: #174EA6;\n",
              "    }\n",
              "\n",
              "    [theme=dark] .colab-df-convert {\n",
              "      background-color: #3B4455;\n",
              "      fill: #D2E3FC;\n",
              "    }\n",
              "\n",
              "    [theme=dark] .colab-df-convert:hover {\n",
              "      background-color: #434B5C;\n",
              "      box-shadow: 0px 1px 3px 1px rgba(0, 0, 0, 0.15);\n",
              "      filter: drop-shadow(0px 1px 2px rgba(0, 0, 0, 0.3));\n",
              "      fill: #FFFFFF;\n",
              "    }\n",
              "  </style>\n",
              "\n",
              "      <script>\n",
              "        const buttonEl =\n",
              "          document.querySelector('#df-2cfa593e-6c08-4b0e-b23b-5494ec830ff4 button.colab-df-convert');\n",
              "        buttonEl.style.display =\n",
              "          google.colab.kernel.accessAllowed ? 'block' : 'none';\n",
              "\n",
              "        async function convertToInteractive(key) {\n",
              "          const element = document.querySelector('#df-2cfa593e-6c08-4b0e-b23b-5494ec830ff4');\n",
              "          const dataTable =\n",
              "            await google.colab.kernel.invokeFunction('convertToInteractive',\n",
              "                                                     [key], {});\n",
              "          if (!dataTable) return;\n",
              "\n",
              "          const docLinkHtml = 'Like what you see? Visit the ' +\n",
              "            '<a target=\"_blank\" href=https://colab.research.google.com/notebooks/data_table.ipynb>data table notebook</a>'\n",
              "            + ' to learn more about interactive tables.';\n",
              "          element.innerHTML = '';\n",
              "          dataTable['output_type'] = 'display_data';\n",
              "          await google.colab.output.renderOutput(dataTable, element);\n",
              "          const docLink = document.createElement('div');\n",
              "          docLink.innerHTML = docLinkHtml;\n",
              "          element.appendChild(docLink);\n",
              "        }\n",
              "      </script>\n",
              "    </div>\n",
              "  </div>\n",
              "  "
            ]
          },
          "metadata": {},
          "execution_count": 60
        }
      ]
    },
    {
      "cell_type": "code",
      "source": [
        "#get revenues by year\n",
        "revenue_grouped = revenue.groupby(['year']).sum()"
      ],
      "metadata": {
        "id": "s9Z0Qp_uv2hT"
      },
      "execution_count": 61,
      "outputs": []
    },
    {
      "cell_type": "code",
      "source": [
        "#removr year column as index\n",
        "revenue_grouped = revenue_grouped.reset_index()"
      ],
      "metadata": {
        "id": "0SXK22HYyV5U"
      },
      "execution_count": 62,
      "outputs": []
    },
    {
      "cell_type": "code",
      "source": [
        "revenue_grouped.head()"
      ],
      "metadata": {
        "colab": {
          "base_uri": "https://localhost:8080/",
          "height": 175
        },
        "id": "s8o3sh1Pzc_C",
        "outputId": "41e1815c-4863-40ef-cf66-db7b860d4dce"
      },
      "execution_count": 63,
      "outputs": [
        {
          "output_type": "execute_result",
          "data": {
            "text/plain": [
              "   year  Sales Target   sum(Sales)  sum(Quantity)  sum(Profit)     revenue\n",
              "0  2019        472684  508284.2131      10270.608   53447.2855  35936.2131\n",
              "1  2020        455999  489987.5744      13298.675   65585.9624  36271.5744\n",
              "2  2021        594935  632871.2890      16881.637   85121.7481  38734.2890\n",
              "3  2022        714047  760107.6932      19831.990   99214.1417  46834.6932"
            ],
            "text/html": [
              "\n",
              "  <div id=\"df-278ee32e-ea6c-4b48-9fa3-b5b47dea1e02\">\n",
              "    <div class=\"colab-df-container\">\n",
              "      <div>\n",
              "<style scoped>\n",
              "    .dataframe tbody tr th:only-of-type {\n",
              "        vertical-align: middle;\n",
              "    }\n",
              "\n",
              "    .dataframe tbody tr th {\n",
              "        vertical-align: top;\n",
              "    }\n",
              "\n",
              "    .dataframe thead th {\n",
              "        text-align: right;\n",
              "    }\n",
              "</style>\n",
              "<table border=\"1\" class=\"dataframe\">\n",
              "  <thead>\n",
              "    <tr style=\"text-align: right;\">\n",
              "      <th></th>\n",
              "      <th>year</th>\n",
              "      <th>Sales Target</th>\n",
              "      <th>sum(Sales)</th>\n",
              "      <th>sum(Quantity)</th>\n",
              "      <th>sum(Profit)</th>\n",
              "      <th>revenue</th>\n",
              "    </tr>\n",
              "  </thead>\n",
              "  <tbody>\n",
              "    <tr>\n",
              "      <th>0</th>\n",
              "      <td>2019</td>\n",
              "      <td>472684</td>\n",
              "      <td>508284.2131</td>\n",
              "      <td>10270.608</td>\n",
              "      <td>53447.2855</td>\n",
              "      <td>35936.2131</td>\n",
              "    </tr>\n",
              "    <tr>\n",
              "      <th>1</th>\n",
              "      <td>2020</td>\n",
              "      <td>455999</td>\n",
              "      <td>489987.5744</td>\n",
              "      <td>13298.675</td>\n",
              "      <td>65585.9624</td>\n",
              "      <td>36271.5744</td>\n",
              "    </tr>\n",
              "    <tr>\n",
              "      <th>2</th>\n",
              "      <td>2021</td>\n",
              "      <td>594935</td>\n",
              "      <td>632871.2890</td>\n",
              "      <td>16881.637</td>\n",
              "      <td>85121.7481</td>\n",
              "      <td>38734.2890</td>\n",
              "    </tr>\n",
              "    <tr>\n",
              "      <th>3</th>\n",
              "      <td>2022</td>\n",
              "      <td>714047</td>\n",
              "      <td>760107.6932</td>\n",
              "      <td>19831.990</td>\n",
              "      <td>99214.1417</td>\n",
              "      <td>46834.6932</td>\n",
              "    </tr>\n",
              "  </tbody>\n",
              "</table>\n",
              "</div>\n",
              "      <button class=\"colab-df-convert\" onclick=\"convertToInteractive('df-278ee32e-ea6c-4b48-9fa3-b5b47dea1e02')\"\n",
              "              title=\"Convert this dataframe to an interactive table.\"\n",
              "              style=\"display:none;\">\n",
              "        \n",
              "  <svg xmlns=\"http://www.w3.org/2000/svg\" height=\"24px\"viewBox=\"0 0 24 24\"\n",
              "       width=\"24px\">\n",
              "    <path d=\"M0 0h24v24H0V0z\" fill=\"none\"/>\n",
              "    <path d=\"M18.56 5.44l.94 2.06.94-2.06 2.06-.94-2.06-.94-.94-2.06-.94 2.06-2.06.94zm-11 1L8.5 8.5l.94-2.06 2.06-.94-2.06-.94L8.5 2.5l-.94 2.06-2.06.94zm10 10l.94 2.06.94-2.06 2.06-.94-2.06-.94-.94-2.06-.94 2.06-2.06.94z\"/><path d=\"M17.41 7.96l-1.37-1.37c-.4-.4-.92-.59-1.43-.59-.52 0-1.04.2-1.43.59L10.3 9.45l-7.72 7.72c-.78.78-.78 2.05 0 2.83L4 21.41c.39.39.9.59 1.41.59.51 0 1.02-.2 1.41-.59l7.78-7.78 2.81-2.81c.8-.78.8-2.07 0-2.86zM5.41 20L4 18.59l7.72-7.72 1.47 1.35L5.41 20z\"/>\n",
              "  </svg>\n",
              "      </button>\n",
              "      \n",
              "  <style>\n",
              "    .colab-df-container {\n",
              "      display:flex;\n",
              "      flex-wrap:wrap;\n",
              "      gap: 12px;\n",
              "    }\n",
              "\n",
              "    .colab-df-convert {\n",
              "      background-color: #E8F0FE;\n",
              "      border: none;\n",
              "      border-radius: 50%;\n",
              "      cursor: pointer;\n",
              "      display: none;\n",
              "      fill: #1967D2;\n",
              "      height: 32px;\n",
              "      padding: 0 0 0 0;\n",
              "      width: 32px;\n",
              "    }\n",
              "\n",
              "    .colab-df-convert:hover {\n",
              "      background-color: #E2EBFA;\n",
              "      box-shadow: 0px 1px 2px rgba(60, 64, 67, 0.3), 0px 1px 3px 1px rgba(60, 64, 67, 0.15);\n",
              "      fill: #174EA6;\n",
              "    }\n",
              "\n",
              "    [theme=dark] .colab-df-convert {\n",
              "      background-color: #3B4455;\n",
              "      fill: #D2E3FC;\n",
              "    }\n",
              "\n",
              "    [theme=dark] .colab-df-convert:hover {\n",
              "      background-color: #434B5C;\n",
              "      box-shadow: 0px 1px 3px 1px rgba(0, 0, 0, 0.15);\n",
              "      filter: drop-shadow(0px 1px 2px rgba(0, 0, 0, 0.3));\n",
              "      fill: #FFFFFF;\n",
              "    }\n",
              "  </style>\n",
              "\n",
              "      <script>\n",
              "        const buttonEl =\n",
              "          document.querySelector('#df-278ee32e-ea6c-4b48-9fa3-b5b47dea1e02 button.colab-df-convert');\n",
              "        buttonEl.style.display =\n",
              "          google.colab.kernel.accessAllowed ? 'block' : 'none';\n",
              "\n",
              "        async function convertToInteractive(key) {\n",
              "          const element = document.querySelector('#df-278ee32e-ea6c-4b48-9fa3-b5b47dea1e02');\n",
              "          const dataTable =\n",
              "            await google.colab.kernel.invokeFunction('convertToInteractive',\n",
              "                                                     [key], {});\n",
              "          if (!dataTable) return;\n",
              "\n",
              "          const docLinkHtml = 'Like what you see? Visit the ' +\n",
              "            '<a target=\"_blank\" href=https://colab.research.google.com/notebooks/data_table.ipynb>data table notebook</a>'\n",
              "            + ' to learn more about interactive tables.';\n",
              "          element.innerHTML = '';\n",
              "          dataTable['output_type'] = 'display_data';\n",
              "          await google.colab.output.renderOutput(dataTable, element);\n",
              "          const docLink = document.createElement('div');\n",
              "          docLink.innerHTML = docLinkHtml;\n",
              "          element.appendChild(docLink);\n",
              "        }\n",
              "      </script>\n",
              "    </div>\n",
              "  </div>\n",
              "  "
            ]
          },
          "metadata": {},
          "execution_count": 63
        }
      ]
    },
    {
      "cell_type": "code",
      "source": [
        "plt.figure(figsize = (10,5))\n",
        "sns.barplot(x = \"year\", y = \"revenue\" ,data = revenue_grouped,palette='Set2').set(title=\"revenue vs year \")"
      ],
      "metadata": {
        "colab": {
          "base_uri": "https://localhost:8080/",
          "height": 367
        },
        "id": "SZsgRTlA0wpz",
        "outputId": "bbc90213-f6ea-4255-a1f6-49d37e22f70b"
      },
      "execution_count": 64,
      "outputs": [
        {
          "output_type": "execute_result",
          "data": {
            "text/plain": [
              "[Text(0.5, 1.0, 'revenue vs year ')]"
            ]
          },
          "metadata": {},
          "execution_count": 64
        },
        {
          "output_type": "display_data",
          "data": {
            "text/plain": [
              "<Figure size 720x360 with 1 Axes>"
            ],
            "image/png": "[encoded data removed]"
          },
          "metadata": {
            "needs_background": "light"
          }
        }
      ]
    },
    {
      "cell_type": "markdown",
      "source": [
        "the performance has increased gradually over the years, but a dramatic increase in performance can be seen in 2022."
      ],
      "metadata": {
        "id": "c1AsZov61R0F"
      }
    },
    {
      "cell_type": "code",
      "source": [],
      "metadata": {
        "id": "Pk59Xv6ICZKv"
      },
      "execution_count": 64,
      "outputs": []
    },
    {
      "cell_type": "code",
      "source": [
        "#get revenue month wise\n",
        "monthly_revenue = revenue.groupby(['year' , 'month']).sum()"
      ],
      "metadata": {
        "id": "sZT8KXTrCZRh"
      },
      "execution_count": 65,
      "outputs": []
    },
    {
      "cell_type": "code",
      "source": [
        "plt.figure(figsize=(20,10))\n",
        "sns.lineplot(x = \"month\", y = \"sum(Profit)\", hue='year' ,data = monthly_revenue,palette='tab10').set(title=\"profit variation during each year \")"
      ],
      "metadata": {
        "colab": {
          "base_uri": "https://localhost:8080/",
          "height": 638
        },
        "id": "sLNf9kkoC35k",
        "outputId": "e99e7938-924f-4178-df50-0eb4c8382e8e"
      },
      "execution_count": 66,
      "outputs": [
        {
          "output_type": "execute_result",
          "data": {
            "text/plain": [
              "[Text(0.5, 1.0, 'profit variation during each year ')]"
            ]
          },
          "metadata": {},
          "execution_count": 66
        },
        {
          "output_type": "display_data",
          "data": {
            "text/plain": [
              "<Figure size 1440x720 with 1 Axes>"
            ],
            "image/png": "[encoded data removed]"
          },
          "metadata": {
            "needs_background": "light"
          }
        }
      ]
    },
    {
      "cell_type": "markdown",
      "source": [
        "Every year profit has upward trend as month progress.  \n",
        "2021 has recorded the highest profit margin at the december"
      ],
      "metadata": {
        "id": "Q_jo3P-EDegc"
      }
    },
    {
      "cell_type": "code",
      "source": [],
      "metadata": {
        "id": "usvu-M-ZECB1"
      },
      "execution_count": 66,
      "outputs": []
    },
    {
      "cell_type": "code",
      "source": [
        "final_table_grped=final_table.groupBy(['Category', 'Order Date','Segment','Sales Target']).sum('Sales','Quantity','Profit')"
      ],
      "metadata": {
        "id": "QLb6s6mtEwA5"
      },
      "execution_count": 67,
      "outputs": []
    },
    {
      "cell_type": "code",
      "source": [
        "#get average  sales per order date\n",
        "sales_vs_orderDate = GS_Sales_Data_Combined.groupBy(['Order Date']).avg('Sales')\n",
        "sales_vs_orderDate.sort('Order Date')\n",
        "sales_vs_orderDate = sales_vs_orderDate.toPandas()\n"
      ],
      "metadata": {
        "id": "L8BqyuGHwmJc"
      },
      "execution_count": 68,
      "outputs": []
    },
    {
      "cell_type": "code",
      "source": [
        "sales_vs_orderDate[\"Order Date\"] = sales_vs_orderDate[\"Order Date\"].astype(str)\n",
        "sales_vs_orderDate[[\"year\" ,\"month\" , \"day\"]] = sales_vs_orderDate[\"Order Date\"].str.split(\"-\", expand = True)"
      ],
      "metadata": {
        "id": "9FTm5w2exsiB"
      },
      "execution_count": 69,
      "outputs": []
    },
    {
      "cell_type": "code",
      "source": [
        "#create year-month column by splitting order date column\n",
        "sales_vs_orderDate[\"year-month\"] = sales_vs_orderDate['year']+\"-\"+ sales_vs_orderDate[\"month\"]"
      ],
      "metadata": {
        "id": "rMeKI-OezE3_"
      },
      "execution_count": 70,
      "outputs": []
    },
    {
      "cell_type": "code",
      "source": [
        "#drop other unnecessary columns\n",
        "sales_vs_orderDate = sales_vs_orderDate.drop(['Order Date' , 'year' , 'month' , 'day'] , axis=1)"
      ],
      "metadata": {
        "id": "b1RXQ3YLzsjL"
      },
      "execution_count": 71,
      "outputs": []
    },
    {
      "cell_type": "code",
      "source": [
        "#calculate the mean per year-month\n",
        "sales_vs_orderDate = sales_vs_orderDate.groupby('year-month').agg('mean').reset_index()"
      ],
      "metadata": {
        "id": "wsUvwWqsz8m8"
      },
      "execution_count": 72,
      "outputs": []
    },
    {
      "cell_type": "code",
      "source": [
        "sales_vs_orderDate.head()"
      ],
      "metadata": {
        "colab": {
          "base_uri": "https://localhost:8080/",
          "height": 206
        },
        "id": "jeohk6Nf0InJ",
        "outputId": "19c5dc8a-0ab0-402e-9202-dfa6d66cf4e1"
      },
      "execution_count": 73,
      "outputs": [
        {
          "output_type": "execute_result",
          "data": {
            "text/plain": [
              "  year-month  avg(Sales)\n",
              "0    2019-01  114.823197\n",
              "1    2019-02   76.001450\n",
              "2    2019-03  315.269786\n",
              "3    2019-04  196.247664\n",
              "4    2019-05  230.975235"
            ],
            "text/html": [
              "\n",
              "  <div id=\"df-76806e65-0f20-40f0-905f-be7e44be1f17\">\n",
              "    <div class=\"colab-df-container\">\n",
              "      <div>\n",
              "<style scoped>\n",
              "    .dataframe tbody tr th:only-of-type {\n",
              "        vertical-align: middle;\n",
              "    }\n",
              "\n",
              "    .dataframe tbody tr th {\n",
              "        vertical-align: top;\n",
              "    }\n",
              "\n",
              "    .dataframe thead th {\n",
              "        text-align: right;\n",
              "    }\n",
              "</style>\n",
              "<table border=\"1\" class=\"dataframe\">\n",
              "  <thead>\n",
              "    <tr style=\"text-align: right;\">\n",
              "      <th></th>\n",
              "      <th>year-month</th>\n",
              "      <th>avg(Sales)</th>\n",
              "    </tr>\n",
              "  </thead>\n",
              "  <tbody>\n",
              "    <tr>\n",
              "      <th>0</th>\n",
              "      <td>2019-01</td>\n",
              "      <td>114.823197</td>\n",
              "    </tr>\n",
              "    <tr>\n",
              "      <th>1</th>\n",
              "      <td>2019-02</td>\n",
              "      <td>76.001450</td>\n",
              "    </tr>\n",
              "    <tr>\n",
              "      <th>2</th>\n",
              "      <td>2019-03</td>\n",
              "      <td>315.269786</td>\n",
              "    </tr>\n",
              "    <tr>\n",
              "      <th>3</th>\n",
              "      <td>2019-04</td>\n",
              "      <td>196.247664</td>\n",
              "    </tr>\n",
              "    <tr>\n",
              "      <th>4</th>\n",
              "      <td>2019-05</td>\n",
              "      <td>230.975235</td>\n",
              "    </tr>\n",
              "  </tbody>\n",
              "</table>\n",
              "</div>\n",
              "      <button class=\"colab-df-convert\" onclick=\"convertToInteractive('df-76806e65-0f20-40f0-905f-be7e44be1f17')\"\n",
              "              title=\"Convert this dataframe to an interactive table.\"\n",
              "              style=\"display:none;\">\n",
              "        \n",
              "  <svg xmlns=\"http://www.w3.org/2000/svg\" height=\"24px\"viewBox=\"0 0 24 24\"\n",
              "       width=\"24px\">\n",
              "    <path d=\"M0 0h24v24H0V0z\" fill=\"none\"/>\n",
              "    <path d=\"M18.56 5.44l.94 2.06.94-2.06 2.06-.94-2.06-.94-.94-2.06-.94 2.06-2.06.94zm-11 1L8.5 8.5l.94-2.06 2.06-.94-2.06-.94L8.5 2.5l-.94 2.06-2.06.94zm10 10l.94 2.06.94-2.06 2.06-.94-2.06-.94-.94-2.06-.94 2.06-2.06.94z\"/><path d=\"M17.41 7.96l-1.37-1.37c-.4-.4-.92-.59-1.43-.59-.52 0-1.04.2-1.43.59L10.3 9.45l-7.72 7.72c-.78.78-.78 2.05 0 2.83L4 21.41c.39.39.9.59 1.41.59.51 0 1.02-.2 1.41-.59l7.78-7.78 2.81-2.81c.8-.78.8-2.07 0-2.86zM5.41 20L4 18.59l7.72-7.72 1.47 1.35L5.41 20z\"/>\n",
              "  </svg>\n",
              "      </button>\n",
              "      \n",
              "  <style>\n",
              "    .colab-df-container {\n",
              "      display:flex;\n",
              "      flex-wrap:wrap;\n",
              "      gap: 12px;\n",
              "    }\n",
              "\n",
              "    .colab-df-convert {\n",
              "      background-color: #E8F0FE;\n",
              "      border: none;\n",
              "      border-radius: 50%;\n",
              "      cursor: pointer;\n",
              "      display: none;\n",
              "      fill: #1967D2;\n",
              "      height: 32px;\n",
              "      padding: 0 0 0 0;\n",
              "      width: 32px;\n",
              "    }\n",
              "\n",
              "    .colab-df-convert:hover {\n",
              "      background-color: #E2EBFA;\n",
              "      box-shadow: 0px 1px 2px rgba(60, 64, 67, 0.3), 0px 1px 3px 1px rgba(60, 64, 67, 0.15);\n",
              "      fill: #174EA6;\n",
              "    }\n",
              "\n",
              "    [theme=dark] .colab-df-convert {\n",
              "      background-color: #3B4455;\n",
              "      fill: #D2E3FC;\n",
              "    }\n",
              "\n",
              "    [theme=dark] .colab-df-convert:hover {\n",
              "      background-color: #434B5C;\n",
              "      box-shadow: 0px 1px 3px 1px rgba(0, 0, 0, 0.15);\n",
              "      filter: drop-shadow(0px 1px 2px rgba(0, 0, 0, 0.3));\n",
              "      fill: #FFFFFF;\n",
              "    }\n",
              "  </style>\n",
              "\n",
              "      <script>\n",
              "        const buttonEl =\n",
              "          document.querySelector('#df-76806e65-0f20-40f0-905f-be7e44be1f17 button.colab-df-convert');\n",
              "        buttonEl.style.display =\n",
              "          google.colab.kernel.accessAllowed ? 'block' : 'none';\n",
              "\n",
              "        async function convertToInteractive(key) {\n",
              "          const element = document.querySelector('#df-76806e65-0f20-40f0-905f-be7e44be1f17');\n",
              "          const dataTable =\n",
              "            await google.colab.kernel.invokeFunction('convertToInteractive',\n",
              "                                                     [key], {});\n",
              "          if (!dataTable) return;\n",
              "\n",
              "          const docLinkHtml = 'Like what you see? Visit the ' +\n",
              "            '<a target=\"_blank\" href=https://colab.research.google.com/notebooks/data_table.ipynb>data table notebook</a>'\n",
              "            + ' to learn more about interactive tables.';\n",
              "          element.innerHTML = '';\n",
              "          dataTable['output_type'] = 'display_data';\n",
              "          await google.colab.output.renderOutput(dataTable, element);\n",
              "          const docLink = document.createElement('div');\n",
              "          docLink.innerHTML = docLinkHtml;\n",
              "          element.appendChild(docLink);\n",
              "        }\n",
              "      </script>\n",
              "    </div>\n",
              "  </div>\n",
              "  "
            ]
          },
          "metadata": {},
          "execution_count": 73
        }
      ]
    },
    {
      "cell_type": "code",
      "source": [
        "plt.figure(figsize = (30,15))\n",
        "plt.subplot(2,2,1)\n",
        "sns.lineplot(y = sales_vs_orderDate['avg(Sales)'].iloc[:12], x = sales_vs_orderDate['year-month'].iloc[:12])\n",
        "\n",
        "plt.subplot(2,2,2)\n",
        "sns.lineplot(y = sales_vs_orderDate['avg(Sales)'].iloc[12:24], x = sales_vs_orderDate['year-month'].iloc[12:24])\n",
        "\n",
        "plt.subplot(2,2,3)\n",
        "sns.lineplot(y = sales_vs_orderDate['avg(Sales)'].iloc[24:36], x = sales_vs_orderDate['year-month'].iloc[24:36])\n",
        "\n",
        "plt.subplot(2,2,4)\n",
        "sns.lineplot(y = sales_vs_orderDate['avg(Sales)'].iloc[36:48], x = sales_vs_orderDate['year-month'].iloc[36:48])\n"
      ],
      "metadata": {
        "colab": {
          "base_uri": "https://localhost:8080/",
          "height": 738
        },
        "id": "isAViZrM0l9L",
        "outputId": "6db6d3a5-c8b3-4190-8186-9ccf0a9ade14"
      },
      "execution_count": 74,
      "outputs": [
        {
          "output_type": "execute_result",
          "data": {
            "text/plain": [
              "<AxesSubplot:xlabel='year-month', ylabel='avg(Sales)'>"
            ]
          },
          "metadata": {},
          "execution_count": 74
        },
        {
          "output_type": "display_data",
          "data": {
            "text/plain": [
              "<Figure size 2160x1080 with 4 Axes>"
            ],
            "image/png": "[encoded data removed]"
          },
          "metadata": {
            "needs_background": "light"
          }
        }
      ]
    },
    {
      "cell_type": "markdown",
      "source": [
        "As we can see there is a high upward trend at the first quarter of 2019 and after that sligt downward trend can be seen.\n",
        "\n",
        "At 2020 there is not considerable sales happend\n",
        "\n",
        "At 2021 first quarter there is upward trend of sales and after that sales has dropped and in the last quarter again we can see an upward trend\n",
        "\n",
        "In 2022 downward trend can be seen from the beginning"
      ],
      "metadata": {
        "id": "uXV24-Cc6aAk"
      }
    },
    {
      "cell_type": "code",
      "source": [],
      "metadata": {
        "id": "OjCq9XzH_rwa"
      },
      "execution_count": 74,
      "outputs": []
    },
    {
      "cell_type": "code",
      "source": [
        "#Extract segment and sum(quantity) grouped ny year,week,segment to build the model\n",
        "final_table.createOrReplaceTempView(\"final_table\")\n",
        "model = spark.sql(\"\"\"select EXTRACT(WEEK FROM `Order Date`) as week,EXTRACT(year FROM `Order Date`) as year, \n",
        "Segment ,sum(Quantity) as Qty\n",
        "from final_table group by year,week,Segment\n",
        "order by year,week\"\"\")\n",
        "model_pd = model.toPandas()"
      ],
      "metadata": {
        "id": "g0WNafRp_r3N"
      },
      "execution_count": 76,
      "outputs": []
    },
    {
      "cell_type": "code",
      "source": [
        "#create 3 different data frames according to 3 different segments\n",
        "model_pd_corporate = model_pd[model_pd['Segment']=='Corporate'].reset_index()\n",
        "model_pd_consumer = model_pd[model_pd['Segment']=='Consumer'].reset_index()\n",
        "model_pd_homeOffice = model_pd[model_pd['Segment']=='Home Office'].reset_index()"
      ],
      "metadata": {
        "id": "IcY8RMg7_8Xv"
      },
      "execution_count": 77,
      "outputs": []
    },
    {
      "cell_type": "code",
      "source": [
        "#drop segment column from each dataframe since there is only one segment category in each dataframe\n",
        "model_pd_corporate.drop(['Segment','index'],axis=1,inplace=True)\n",
        "model_pd_consumer.drop(['Segment','index'],axis=1,inplace=True)\n",
        "model_pd_homeOffice.drop(['Segment','index'],axis=1,inplace=True)"
      ],
      "metadata": {
        "id": "77YQevJhAay_"
      },
      "execution_count": 78,
      "outputs": []
    },
    {
      "cell_type": "code",
      "source": [
        "import warnings\n",
        "warnings.filterwarnings('ignore')\n",
        "#create a copy of model_pd_homeOffice\n",
        "X1=model_pd_homeOffice.copy()\n",
        "from statsmodels.graphics.tsaplots import plot_acf,plot_pacf\n",
        "from statsmodels.tsa.stattools import adfuller\n",
        "\n",
        "#perform Augmented dickey fuller test\n",
        "res=adfuller(X1.Qty)\n",
        "\n",
        "#print results of the Augmented dickey fuller test\n",
        "print(f'ADF Statistic: {res[0]}')\n",
        "print(f'n_lags: {res[1]}')\n",
        "print(f'p-value: {res[1]}')\n",
        "for key, value in res[4].items():\n",
        "  print('Critial Values:')\n",
        "  print(f'   {key}, {value}')\n",
        "if res[1]>0.05:\n",
        "  print('The p-value is obtained is greater than significance level of 0.05. So the time series is in fact non-stationary.')\n",
        "else:\n",
        "  print('The p-value is obtained is less than significance level of 0.05. So the time series is in fact stationary.')\n",
        "print('====================================')\n",
        "\n",
        "#perform order one differencing \n",
        "res_dif = adfuller(X1.Qty.diff().dropna())\n",
        "print(f'ADF Statistic: {res_dif[0]}')\n",
        "print(f'n_lags: {res_dif[1]}')\n",
        "print(f'p-value: {res_dif[1]}')\n",
        "for key, value in res_dif[4].items():\n",
        "  print('Critial Values:')\n",
        "  print(f'   {key}, {value}')\n",
        "if res[1]>0.05:\n",
        "  print('The p-value is obtained is greater than significance level of 0.05. So the time series is in fact non-stationary.')\n",
        "else:\n",
        "  print('The p-value is obtained is less than significance level of 0.05. So the time series is in fact stationary.')\n",
        "print('====================================')\n",
        "\n",
        "#plot acf and pacf plots\n",
        "plot_acf(X1.Qty.diff().dropna())\n",
        "plot_pacf(X1.Qty.diff().dropna())"
      ],
      "metadata": {
        "colab": {
          "base_uri": "https://localhost:8080/",
          "height": 1000
        },
        "id": "i3GhFYHiAeff",
        "outputId": "6a334784-792e-4225-c94c-2969621c9a39"
      },
      "execution_count": 79,
      "outputs": [
        {
          "output_type": "stream",
          "name": "stdout",
          "text": [
            "ADF Statistic: -6.9621047141158305\n",
            "n_lags: 9.108729167452033e-10\n",
            "p-value: 9.108729167452033e-10\n",
            "Critial Values:\n",
            "   1%, -3.4648754262570978\n",
            "Critial Values:\n",
            "   5%, -2.876714157488788\n",
            "Critial Values:\n",
            "   10%, -2.574858699001736\n",
            "The p-value is obtained is less than significance level of 0.05. So the time series is in fact stationary.\n",
            "====================================\n",
            "ADF Statistic: -10.09764142902617\n",
            "n_lags: 1.0802350177113527e-17\n",
            "p-value: 1.0802350177113527e-17\n",
            "Critial Values:\n",
            "   1%, -3.4652439354133255\n",
            "Critial Values:\n",
            "   5%, -2.8768752281673717\n",
            "Critial Values:\n",
            "   10%, -2.574944653739612\n",
            "The p-value is obtained is less than significance level of 0.05. So the time series is in fact stationary.\n",
            "====================================\n"
          ]
        },
        {
          "output_type": "execute_result",
          "data": {
            "text/plain": [
              "<Figure size 432x288 with 1 Axes>"
            ],
            "image/png": "[encoded data removed]"
          },
          "metadata": {},
          "execution_count": 79
        },
        {
          "output_type": "display_data",
          "data": {
            "text/plain": [
              "<Figure size 432x288 with 1 Axes>"
            ],
            "image/png": "[encoded data removed]"
          },
          "metadata": {
            "needs_background": "light"
          }
        },
        {
          "output_type": "display_data",
          "data": {
            "text/plain": [
              "<Figure size 432x288 with 1 Axes>"
            ],
            "image/png": "[encoded data removed]"
          },
          "metadata": {
            "needs_background": "light"
          }
        }
      ]
    },
    {
      "cell_type": "markdown",
      "source": [
        "As we can see above after first order differencing p-value has dropped"
      ],
      "metadata": {
        "id": "QBOBGvre_FWk"
      }
    },
    {
      "cell_type": "code",
      "source": [],
      "metadata": {
        "id": "bQ-R0nUi_Q0p"
      },
      "execution_count": 79,
      "outputs": []
    },
    {
      "cell_type": "code",
      "source": [
        "#fit arima model and see the results\n",
        "from statsmodels.tsa.arima.model import ARIMA\n",
        "from statsmodels.graphics.tsaplots import plot_predict\n",
        "arima_model_HomeOffice=ARIMA(X1.Qty[:int(X1.shape[0]*.7)],order=(0,1,1))\n",
        "arima_model_HomeOffice_fit=arima_model_HomeOffice.fit()\n",
        "print(arima_model_HomeOffice_fit.summary())"
      ],
      "metadata": {
        "colab": {
          "base_uri": "https://localhost:8080/"
        },
        "id": "w7iTmf32Ipmv",
        "outputId": "c38f37fb-18ef-47a5-81f1-cbbed12665e5"
      },
      "execution_count": 80,
      "outputs": [
        {
          "output_type": "stream",
          "name": "stdout",
          "text": [
            "                               SARIMAX Results                                \n",
            "==============================================================================\n",
            "Dep. Variable:                    Qty   No. Observations:                  137\n",
            "Model:                 ARIMA(0, 1, 1)   Log Likelihood                -829.512\n",
            "Date:                Thu, 16 Mar 2023   AIC                           1663.024\n",
            "Time:                        06:04:22   BIC                           1668.849\n",
            "Sample:                             0   HQIC                          1665.391\n",
            "                                - 137                                         \n",
            "Covariance Type:                  opg                                         \n",
            "==============================================================================\n",
            "                 coef    std err          z      P>|z|      [0.025      0.975]\n",
            "------------------------------------------------------------------------------\n",
            "ma.L1         -0.9959      0.125     -7.967      0.000      -1.241      -0.751\n",
            "sigma2      1.125e+04   1110.867     10.130      0.000    9076.299    1.34e+04\n",
            "===================================================================================\n",
            "Ljung-Box (L1) (Q):                   1.01   Jarque-Bera (JB):             13974.79\n",
            "Prob(Q):                              0.31   Prob(JB):                         0.00\n",
            "Heteroskedasticity (H):               4.15   Skew:                             6.48\n",
            "Prob(H) (two-sided):                  0.00   Kurtosis:                        50.94\n",
            "===================================================================================\n",
            "\n",
            "Warnings:\n",
            "[1] Covariance matrix calculated using the outer product of gradients (complex-step).\n"
          ]
        }
      ]
    },
    {
      "cell_type": "code",
      "source": [
        "plot_predict(arima_model_HomeOffice_fit)"
      ],
      "metadata": {
        "colab": {
          "base_uri": "https://localhost:8080/",
          "height": 513
        },
        "id": "hLI73xQCFQ4w",
        "outputId": "50983f27-fb59-4f55-9558-28c7366a6a6e"
      },
      "execution_count": 81,
      "outputs": [
        {
          "output_type": "execute_result",
          "data": {
            "text/plain": [
              "<Figure size 432x288 with 1 Axes>"
            ],
            "image/png": "[encoded data removed]"
          },
          "metadata": {},
          "execution_count": 81
        },
        {
          "output_type": "display_data",
          "data": {
            "text/plain": [
              "<Figure size 432x288 with 1 Axes>"
            ],
            "image/png": "[encoded data removed]"
          },
          "metadata": {
            "needs_background": "light"
          }
        }
      ]
    },
    {
      "cell_type": "code",
      "source": [],
      "metadata": {
        "id": "SaxJ-LHTKkRg"
      },
      "execution_count": null,
      "outputs": []
    },
    {
      "cell_type": "code",
      "source": [],
      "metadata": {
        "id": "3pIcnsaBMRI0"
      },
      "execution_count": 81,
      "outputs": []
    },
    {
      "cell_type": "code",
      "source": [
        "X2=model_pd_corporate.copy()\n",
        "\n",
        "res2=adfuller(X2.Qty)\n",
        "print(f'ADF Statistic: {res2[0]}')\n",
        "print(f'n_lags: {res2[1]}')\n",
        "print(f'p-value: {res2[1]}')\n",
        "for key, value in res2[4].items():\n",
        "  print('Critial Values:')\n",
        "  print(f'   {key}, {value}')\n",
        "if res2[1]>0.05:\n",
        "  print('The p-value is obtained is greater than significance level of 0.05. So the time series is in fact non-stationary.')\n",
        "else:\n",
        "  print('The p-value is obtained is less than significance level of 0.05. So the time series is in fact stationary.')\n",
        "print('====================================')\n",
        "\n",
        "res_dif2 = adfuller(X2.Qty.diff().dropna())\n",
        "print(f'ADF Statistic: {res_dif2[0]}')\n",
        "print(f'n_lags: {res_dif2[1]}')\n",
        "print(f'p-value: {res_dif2[1]}')\n",
        "for key, value in res_dif2[4].items():\n",
        "  print('Critial Values:')\n",
        "  print(f'   {key}, {value}')\n",
        "if res_dif2[1]>0.05:\n",
        "  print('The p-value is obtained is greater than significance level of 0.05. So the time series is in fact non-stationary.')\n",
        "else:\n",
        "  print('The p-value is obtained is less than significance level of 0.05. So the time series is in fact stationary.')\n",
        "print('====================================')\n",
        "\n",
        "plot_acf(X2.Qty.dropna())\n",
        "plot_pacf(X2.Qty.dropna())"
      ],
      "metadata": {
        "colab": {
          "base_uri": "https://localhost:8080/",
          "height": 1000
        },
        "id": "Inln_y6sMRKx",
        "outputId": "5df7a395-b6d1-4b95-8300-7436c8c34ccb"
      },
      "execution_count": 82,
      "outputs": [
        {
          "output_type": "stream",
          "name": "stdout",
          "text": [
            "ADF Statistic: -3.505372742651941\n",
            "n_lags: 0.007850178022100975\n",
            "p-value: 0.007850178022100975\n",
            "Critial Values:\n",
            "   1%, -3.4631437906252636\n",
            "Critial Values:\n",
            "   5%, -2.8759570379821047\n",
            "Critial Values:\n",
            "   10%, -2.574454682874228\n",
            "The p-value is obtained is less than significance level of 0.05. So the time series is in fact stationary.\n",
            "====================================\n",
            "ADF Statistic: -11.504823524726245\n",
            "n_lags: 4.401906406298473e-21\n",
            "p-value: 4.401906406298473e-21\n",
            "Critial Values:\n",
            "   1%, -3.4633090972761744\n",
            "Critial Values:\n",
            "   5%, -2.876029332045744\n",
            "Critial Values:\n",
            "   10%, -2.5744932593252643\n",
            "The p-value is obtained is less than significance level of 0.05. So the time series is in fact stationary.\n",
            "====================================\n"
          ]
        },
        {
          "output_type": "execute_result",
          "data": {
            "text/plain": [
              "<Figure size 432x288 with 1 Axes>"
            ],
            "image/png": "[encoded data removed]"
          },
          "metadata": {},
          "execution_count": 82
        },
        {
          "output_type": "display_data",
          "data": {
            "text/plain": [
              "<Figure size 432x288 with 1 Axes>"
            ],
            "image/png": "[encoded data removed]"
          },
          "metadata": {
            "needs_background": "light"
          }
        },
        {
          "output_type": "display_data",
          "data": {
            "text/plain": [
              "<Figure size 432x288 with 1 Axes>"
            ],
            "image/png": "[encoded data removed]"
          },
          "metadata": {
            "needs_background": "light"
          }
        }
      ]
    },
    {
      "cell_type": "code",
      "source": [
        "arima_model_pd_corporate=ARIMA(X2.Qty[:int(X2.shape[0]*.7)],order=(1,0,1))\n",
        "arima_model_pd_corporate_fit=arima_model_pd_corporate.fit()\n",
        "print(arima_model_pd_corporate_fit.summary())"
      ],
      "metadata": {
        "colab": {
          "base_uri": "https://localhost:8080/"
        },
        "id": "nQAzxuTdNA4B",
        "outputId": "eb2dad2d-3c54-46f4-df24-771a7f4e6f06"
      },
      "execution_count": 83,
      "outputs": [
        {
          "output_type": "stream",
          "name": "stdout",
          "text": [
            "                               SARIMAX Results                                \n",
            "==============================================================================\n",
            "Dep. Variable:                    Qty   No. Observations:                  144\n",
            "Model:                 ARIMA(1, 0, 1)   Log Likelihood                -886.022\n",
            "Date:                Thu, 16 Mar 2023   AIC                           1780.043\n",
            "Time:                        06:04:29   BIC                           1791.923\n",
            "Sample:                             0   HQIC                          1784.870\n",
            "                                - 144                                         \n",
            "Covariance Type:                  opg                                         \n",
            "==============================================================================\n",
            "                 coef    std err          z      P>|z|      [0.025      0.975]\n",
            "------------------------------------------------------------------------------\n",
            "const         75.4573     22.049      3.422      0.001      32.241     118.673\n",
            "ar.L1         -0.9409      0.325     -2.893      0.004      -1.578      -0.303\n",
            "ma.L1          0.9732      0.270      3.602      0.000       0.444       1.503\n",
            "sigma2      1.292e+04    723.389     17.866      0.000    1.15e+04    1.43e+04\n",
            "===================================================================================\n",
            "Ljung-Box (L1) (Q):                   0.00   Jarque-Bera (JB):             13006.94\n",
            "Prob(Q):                              0.97   Prob(JB):                         0.00\n",
            "Heteroskedasticity (H):              10.23   Skew:                             6.06\n",
            "Prob(H) (two-sided):                  0.00   Kurtosis:                        47.96\n",
            "===================================================================================\n",
            "\n",
            "Warnings:\n",
            "[1] Covariance matrix calculated using the outer product of gradients (complex-step).\n"
          ]
        }
      ]
    },
    {
      "cell_type": "code",
      "source": [
        "plot_predict(model_pd_corporate_fit)"
      ],
      "metadata": {
        "colab": {
          "base_uri": "https://localhost:8080/",
          "height": 165
        },
        "id": "FxFcT0JXNqKg",
        "outputId": "74cd46ba-c1f7-40e9-8899-cadaa3ecc030"
      },
      "execution_count": 84,
      "outputs": [
        {
          "output_type": "error",
          "ename": "NameError",
          "evalue": "ignored",
          "traceback": [
            "\u001b[0;31m---------------------------------------------------------------------------\u001b[0m",
            "\u001b[0;31mNameError\u001b[0m                                 Traceback (most recent call last)",
            "\u001b[0;32m<ipython-input-84-1f9f017480b1>\u001b[0m in \u001b[0;36m<module>\u001b[0;34m\u001b[0m\n\u001b[0;32m----> 1\u001b[0;31m \u001b[0mplot_predict\u001b[0m\u001b[0;34m(\u001b[0m\u001b[0mmodel_pd_corporate_fit\u001b[0m\u001b[0;34m)\u001b[0m\u001b[0;34m\u001b[0m\u001b[0;34m\u001b[0m\u001b[0m\n\u001b[0m",
            "\u001b[0;31mNameError\u001b[0m: name 'model_pd_corporate_fit' is not defined"
          ]
        }
      ]
    },
    {
      "cell_type": "code",
      "source": [],
      "metadata": {
        "id": "g2puPrH-NwlB"
      },
      "execution_count": null,
      "outputs": []
    },
    {
      "cell_type": "code",
      "source": [],
      "metadata": {
        "id": "DbGS9WTROG00"
      },
      "execution_count": null,
      "outputs": []
    },
    {
      "cell_type": "code",
      "source": [
        "X3=model_pd_consumer.copy()"
      ],
      "metadata": {
        "id": "wt-lCKAqOG3o"
      },
      "execution_count": 85,
      "outputs": []
    },
    {
      "cell_type": "code",
      "source": [
        "res3=adfuller(X3.Qty)\n",
        "print(f'ADF Statistic: {res3[0]}')\n",
        "print(f'n_lags: {res3[1]}')\n",
        "print(f'p-value: {res3[1]}')\n",
        "for key, value in res3[4].items():\n",
        "  print('Critial Values:')\n",
        "  print(f'   {key}, {value}')\n",
        "if res3[1]>0.05:\n",
        "  print('The p-value is obtained is greater than significance level of 0.05. So the time series is in fact non-stationary.')\n",
        "else:\n",
        "  print('The p-value is obtained is less than significance level of 0.05. So the time series is in fact stationary.')\n",
        "print('====================================')\n",
        "\n",
        "res_dif3 = adfuller(X3.Qty.diff().dropna())\n",
        "print(f'ADF Statistic: {res_dif3[0]}')\n",
        "print(f'n_lags: {res_dif3[1]}')\n",
        "print(f'p-value: {res_dif3[1]}')\n",
        "for key, value in res_dif3[4].items():\n",
        "  print('Critial Values:')\n",
        "  print(f'   {key}, {value}')\n",
        "if res_dif3[1]>0.05:\n",
        "  print('The p-value is obtained is greater than significance level of 0.05. So the time series is in fact non-stationary.')\n",
        "else:\n",
        "  print('The p-value is obtained is less than significance level of 0.05. So the time series is in fact stationary.')\n",
        "print('====================================')\n",
        "\n",
        "plot_acf(X3.Qty.dropna())\n",
        "plot_pacf(X3.Qty.dropna())"
      ],
      "metadata": {
        "colab": {
          "base_uri": "https://localhost:8080/",
          "height": 1000
        },
        "id": "maN5UZvqOLuj",
        "outputId": "8a814b6c-be3a-464d-f11b-cca60a4cf5cf"
      },
      "execution_count": 86,
      "outputs": [
        {
          "output_type": "stream",
          "name": "stdout",
          "text": [
            "ADF Statistic: -5.955818133475545\n",
            "n_lags: 2.0945686311577538e-07\n",
            "p-value: 2.0945686311577538e-07\n",
            "Critial Values:\n",
            "   1%, -3.4623415245233145\n",
            "Critial Values:\n",
            "   5%, -2.875606128263243\n",
            "Critial Values:\n",
            "   10%, -2.574267439846904\n",
            "The p-value is obtained is less than significance level of 0.05. So the time series is in fact stationary.\n",
            "====================================\n",
            "ADF Statistic: -8.156135434191041\n",
            "n_lags: 9.409163276051846e-13\n",
            "p-value: 9.409163276051846e-13\n",
            "Critial Values:\n",
            "   1%, -3.4638151713286316\n",
            "Critial Values:\n",
            "   5%, -2.876250632135043\n",
            "Critial Values:\n",
            "   10%, -2.574611347821651\n",
            "The p-value is obtained is less than significance level of 0.05. So the time series is in fact stationary.\n",
            "====================================\n"
          ]
        },
        {
          "output_type": "execute_result",
          "data": {
            "text/plain": [
              "<Figure size 432x288 with 1 Axes>"
            ],
            "image/png": "[encoded data removed]"
          },
          "metadata": {},
          "execution_count": 86
        },
        {
          "output_type": "display_data",
          "data": {
            "text/plain": [
              "<Figure size 432x288 with 1 Axes>"
            ],
            "image/png": "[encoded data removed]"
          },
          "metadata": {
            "needs_background": "light"
          }
        },
        {
          "output_type": "display_data",
          "data": {
            "text/plain": [
              "<Figure size 432x288 with 1 Axes>"
            ],
            "image/png": "[encoded data removed]"
          },
          "metadata": {
            "needs_background": "light"
          }
        }
      ]
    },
    {
      "cell_type": "code",
      "source": [
        "arima_model_pd_consumer=ARIMA(X3.Qty[:int(X3.shape[0]*.7)],order=(1,0,1))\n",
        "arima_model_pd_consumer_fit=arima_model_pd_consumer.fit()\n",
        "print(arima_model_pd_consumer_fit.summary())"
      ],
      "metadata": {
        "colab": {
          "base_uri": "https://localhost:8080/"
        },
        "id": "SKdcm63EOfce",
        "outputId": "f58a22a0-d9d3-4847-a73f-1bddbdaf1f70"
      },
      "execution_count": 87,
      "outputs": [
        {
          "output_type": "stream",
          "name": "stdout",
          "text": [
            "                               SARIMAX Results                                \n",
            "==============================================================================\n",
            "Dep. Variable:                    Qty   No. Observations:                  146\n",
            "Model:                 ARIMA(1, 0, 1)   Log Likelihood                -898.218\n",
            "Date:                Thu, 16 Mar 2023   AIC                           1804.435\n",
            "Time:                        06:04:32   BIC                           1816.370\n",
            "Sample:                             0   HQIC                          1809.285\n",
            "                                - 146                                         \n",
            "Covariance Type:                  opg                                         \n",
            "==============================================================================\n",
            "                 coef    std err          z      P>|z|      [0.025      0.975]\n",
            "------------------------------------------------------------------------------\n",
            "const        120.2126     25.458      4.722      0.000      70.316     170.110\n",
            "ar.L1          0.6711      0.258      2.606      0.009       0.166       1.176\n",
            "ma.L1         -0.4705      0.332     -1.417      0.156      -1.121       0.180\n",
            "sigma2      1.291e+04    886.994     14.555      0.000    1.12e+04    1.46e+04\n",
            "===================================================================================\n",
            "Ljung-Box (L1) (Q):                   0.76   Jarque-Bera (JB):              1547.66\n",
            "Prob(Q):                              0.38   Prob(JB):                         0.00\n",
            "Heteroskedasticity (H):               3.13   Skew:                             3.25\n",
            "Prob(H) (two-sided):                  0.00   Kurtosis:                        17.56\n",
            "===================================================================================\n",
            "\n",
            "Warnings:\n",
            "[1] Covariance matrix calculated using the outer product of gradients (complex-step).\n"
          ]
        }
      ]
    },
    {
      "cell_type": "code",
      "source": [
        "plot_predict(model_pd_consumer_fit)"
      ],
      "metadata": {
        "colab": {
          "base_uri": "https://localhost:8080/",
          "height": 165
        },
        "id": "DxOgFs7aOqwf",
        "outputId": "435e5ec5-94e7-4711-a892-32e566d91412"
      },
      "execution_count": 88,
      "outputs": [
        {
          "output_type": "error",
          "ename": "NameError",
          "evalue": "ignored",
          "traceback": [
            "\u001b[0;31m---------------------------------------------------------------------------\u001b[0m",
            "\u001b[0;31mNameError\u001b[0m                                 Traceback (most recent call last)",
            "\u001b[0;32m<ipython-input-88-94e74b6822f7>\u001b[0m in \u001b[0;36m<module>\u001b[0;34m\u001b[0m\n\u001b[0;32m----> 1\u001b[0;31m \u001b[0mplot_predict\u001b[0m\u001b[0;34m(\u001b[0m\u001b[0mmodel_pd_consumer_fit\u001b[0m\u001b[0;34m)\u001b[0m\u001b[0;34m\u001b[0m\u001b[0;34m\u001b[0m\u001b[0m\n\u001b[0m",
            "\u001b[0;31mNameError\u001b[0m: name 'model_pd_consumer_fit' is not defined"
          ]
        }
      ]
    },
    {
      "cell_type": "code",
      "source": [],
      "metadata": {
        "id": "Mh2TnMbePW4s"
      },
      "execution_count": null,
      "outputs": []
    },
    {
      "cell_type": "code",
      "source": [
        "from sklearn.metrics import mean_absolute_error\n",
        "y_pred1=arima_model_HomeOffice_fit.forecast(int(X1.shape[0]*.3)+1).tolist() \n",
        "mae1=mean_absolute_error(X1.Qty[int(X1.shape[0]*.7):] , y_pred1)\n",
        "print('MAE model_Home_Office ',mae1)\n",
        "y_pred2=arima_model_pd_corporate_fit.forecast(int(X2.shape[0]*.3)+1).tolist()\n",
        "mae2=mean_absolute_error(X2.Qty[int(X2.shape[0]*.7):],y_pred2)\n",
        "print('MAE model_Corporate ',mae2)\n",
        "y_pred3=arima_model_pd_consumer_fit.forecast(int(X3.shape[0]*.3)+1).tolist()\n",
        "mae3=mean_absolute_error(X3.Qty[int(X3.shape[0]*.7):],y_pred3)\n",
        "print('MAE model_Consumer ',mae3)\n",
        "\n",
        "print(f'average mae of the model is {np.mean([mae1,mae2,mae3])}')"
      ],
      "metadata": {
        "colab": {
          "base_uri": "https://localhost:8080/"
        },
        "id": "Mql77-y-PW7A",
        "outputId": "5e534196-4824-4848-a125-acd0d5d54203"
      },
      "execution_count": 89,
      "outputs": [
        {
          "output_type": "stream",
          "name": "stdout",
          "text": [
            "MAE model_Home_Office  39.0056705155539\n",
            "MAE model_Corporate  101.39280358509609\n",
            "MAE model_Consumer  101.7915225065137\n",
            "average mae of the model is 80.72999886905457\n"
          ]
        }
      ]
    },
    {
      "cell_type": "code",
      "source": [
        "sns.lineplot(x=\"week\",y='Qty',data=X3)"
      ],
      "metadata": {
        "colab": {
          "base_uri": "https://localhost:8080/",
          "height": 296
        },
        "id": "oBjpo-UkQlTR",
        "outputId": "eda3279c-a8b5-4325-9185-e4926745afe5"
      },
      "execution_count": 90,
      "outputs": [
        {
          "output_type": "execute_result",
          "data": {
            "text/plain": [
              "<AxesSubplot:xlabel='week', ylabel='Qty'>"
            ]
          },
          "metadata": {},
          "execution_count": 90
        },
        {
          "output_type": "display_data",
          "data": {
            "text/plain": [
              "<Figure size 432x288 with 1 Axes>"
            ],
            "image/png": "[encoded data removed]"
          },
          "metadata": {
            "needs_background": "light"
          }
        }
      ]
    },
    {
      "cell_type": "code",
      "source": [],
      "metadata": {
        "id": "qhtejXDjgcLC"
      },
      "execution_count": 90,
      "outputs": []
    }
  ]
}